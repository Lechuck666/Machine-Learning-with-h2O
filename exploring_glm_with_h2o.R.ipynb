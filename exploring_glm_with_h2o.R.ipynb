{
 "cells": [
  {
   "cell_type": "code",
   "execution_count": 157,
   "metadata": {},
   "outputs": [],
   "source": [
    "library(h2o)\n",
    "library(scales)"
   ]
  },
  {
   "cell_type": "code",
   "execution_count": 158,
   "metadata": {},
   "outputs": [
    {
     "name": "stdout",
     "output_type": "stream",
     "text": [
      " Connection successful!\n",
      "\n",
      "R is connected to the H2O cluster: \n",
      "    H2O cluster uptime:         41 minutes 56 seconds \n",
      "    H2O cluster timezone:       Asia/Kolkata \n",
      "    H2O data parsing timezone:  UTC \n",
      "    H2O cluster version:        3.20.0.2 \n",
      "    H2O cluster version age:    8 days  \n",
      "    H2O cluster name:           H2O_started_from_R_raj_szi088 \n",
      "    H2O cluster total nodes:    1 \n",
      "    H2O cluster total memory:   3.54 GB \n",
      "    H2O cluster total cores:    8 \n",
      "    H2O cluster allowed cores:  8 \n",
      "    H2O cluster healthy:        TRUE \n",
      "    H2O Connection ip:          localhost \n",
      "    H2O Connection port:        54321 \n",
      "    H2O Connection proxy:       NA \n",
      "    H2O Internal Security:      FALSE \n",
      "    H2O API Extensions:         XGBoost, Algos, AutoML, Core V3, Core V4 \n",
      "    R Version:                  R version 3.4.3 (2017-11-30) \n",
      "\n"
     ]
    }
   ],
   "source": [
    "h2o.init()"
   ]
  },
  {
   "cell_type": "code",
   "execution_count": 166,
   "metadata": {},
   "outputs": [],
   "source": [
    "smoking<-read.csv('/Users/raj/Desktop/smoking.csv',sep='')"
   ]
  },
  {
   "cell_type": "code",
   "execution_count": 167,
   "metadata": {},
   "outputs": [
    {
     "data": {
      "text/html": [
       "<table>\n",
       "<thead><tr><th scope=col>age</th><th scope=col>smoke</th><th scope=col>pop</th><th scope=col>dead</th></tr></thead>\n",
       "<tbody>\n",
       "\t<tr><td>40-44</td><td>no   </td><td> 656 </td><td> 18  </td></tr>\n",
       "\t<tr><td>45-59</td><td>no   </td><td> 359 </td><td> 22  </td></tr>\n",
       "\t<tr><td>50-54</td><td>no   </td><td> 249 </td><td> 19  </td></tr>\n",
       "\t<tr><td>55-59</td><td>no   </td><td> 632 </td><td> 55  </td></tr>\n",
       "\t<tr><td>60-64</td><td>no   </td><td>1067 </td><td>117  </td></tr>\n",
       "\t<tr><td>65-69</td><td>no   </td><td> 897 </td><td>170  </td></tr>\n",
       "</tbody>\n",
       "</table>\n"
      ],
      "text/latex": [
       "\\begin{tabular}{r|llll}\n",
       " age & smoke & pop & dead\\\\\n",
       "\\hline\n",
       "\t 40-44 & no    &  656  &  18  \\\\\n",
       "\t 45-59 & no    &  359  &  22  \\\\\n",
       "\t 50-54 & no    &  249  &  19  \\\\\n",
       "\t 55-59 & no    &  632  &  55  \\\\\n",
       "\t 60-64 & no    & 1067  & 117  \\\\\n",
       "\t 65-69 & no    &  897  & 170  \\\\\n",
       "\\end{tabular}\n"
      ],
      "text/markdown": [
       "\n",
       "age | smoke | pop | dead | \n",
       "|---|---|---|---|---|---|\n",
       "| 40-44 | no    |  656  |  18   | \n",
       "| 45-59 | no    |  359  |  22   | \n",
       "| 50-54 | no    |  249  |  19   | \n",
       "| 55-59 | no    |  632  |  55   | \n",
       "| 60-64 | no    | 1067  | 117   | \n",
       "| 65-69 | no    |  897  | 170   | \n",
       "\n",
       "\n"
      ],
      "text/plain": [
       "  age   smoke pop  dead\n",
       "1 40-44 no     656  18 \n",
       "2 45-59 no     359  22 \n",
       "3 50-54 no     249  19 \n",
       "4 55-59 no     632  55 \n",
       "5 60-64 no    1067 117 \n",
       "6 65-69 no     897 170 "
      ]
     },
     "metadata": {},
     "output_type": "display_data"
    }
   ],
   "source": [
    "head(smoking)"
   ]
  },
  {
   "cell_type": "code",
   "execution_count": 175,
   "metadata": {},
   "outputs": [],
   "source": [
    "smoking$ratio<- floor(rescale((smoking$dead/smoking$pop),from = c(0,1000))*1000000)"
   ]
  },
  {
   "cell_type": "code",
   "execution_count": 176,
   "metadata": {},
   "outputs": [
    {
     "data": {
      "text/html": [
       "<ol class=list-inline>\n",
       "\t<li>27</li>\n",
       "\t<li>61</li>\n",
       "\t<li>76</li>\n",
       "\t<li>87</li>\n",
       "\t<li>109</li>\n",
       "\t<li>189</li>\n",
       "\t<li>267</li>\n",
       "\t<li>332</li>\n",
       "\t<li>437</li>\n",
       "\t<li>13</li>\n",
       "\t<li>38</li>\n",
       "\t<li>30</li>\n",
       "\t<li>102</li>\n",
       "\t<li>133</li>\n",
       "\t<li>182</li>\n",
       "\t<li>257</li>\n",
       "\t<li>364</li>\n",
       "\t<li>471</li>\n",
       "\t<li>32</li>\n",
       "\t<li>55</li>\n",
       "\t<li>85</li>\n",
       "\t<li>123</li>\n",
       "\t<li>165</li>\n",
       "\t<li>232</li>\n",
       "\t<li>301</li>\n",
       "\t<li>386</li>\n",
       "\t<li>547</li>\n",
       "\t<li>36</li>\n",
       "\t<li>62</li>\n",
       "\t<li>101</li>\n",
       "\t<li>157</li>\n",
       "\t<li>205</li>\n",
       "\t<li>284</li>\n",
       "\t<li>361</li>\n",
       "\t<li>490</li>\n",
       "\t<li>557</li>\n",
       "</ol>\n"
      ],
      "text/latex": [
       "\\begin{enumerate*}\n",
       "\\item 27\n",
       "\\item 61\n",
       "\\item 76\n",
       "\\item 87\n",
       "\\item 109\n",
       "\\item 189\n",
       "\\item 267\n",
       "\\item 332\n",
       "\\item 437\n",
       "\\item 13\n",
       "\\item 38\n",
       "\\item 30\n",
       "\\item 102\n",
       "\\item 133\n",
       "\\item 182\n",
       "\\item 257\n",
       "\\item 364\n",
       "\\item 471\n",
       "\\item 32\n",
       "\\item 55\n",
       "\\item 85\n",
       "\\item 123\n",
       "\\item 165\n",
       "\\item 232\n",
       "\\item 301\n",
       "\\item 386\n",
       "\\item 547\n",
       "\\item 36\n",
       "\\item 62\n",
       "\\item 101\n",
       "\\item 157\n",
       "\\item 205\n",
       "\\item 284\n",
       "\\item 361\n",
       "\\item 490\n",
       "\\item 557\n",
       "\\end{enumerate*}\n"
      ],
      "text/markdown": [
       "1. 27\n",
       "2. 61\n",
       "3. 76\n",
       "4. 87\n",
       "5. 109\n",
       "6. 189\n",
       "7. 267\n",
       "8. 332\n",
       "9. 437\n",
       "10. 13\n",
       "11. 38\n",
       "12. 30\n",
       "13. 102\n",
       "14. 133\n",
       "15. 182\n",
       "16. 257\n",
       "17. 364\n",
       "18. 471\n",
       "19. 32\n",
       "20. 55\n",
       "21. 85\n",
       "22. 123\n",
       "23. 165\n",
       "24. 232\n",
       "25. 301\n",
       "26. 386\n",
       "27. 547\n",
       "28. 36\n",
       "29. 62\n",
       "30. 101\n",
       "31. 157\n",
       "32. 205\n",
       "33. 284\n",
       "34. 361\n",
       "35. 490\n",
       "36. 557\n",
       "\n",
       "\n"
      ],
      "text/plain": [
       " [1]  27  61  76  87 109 189 267 332 437  13  38  30 102 133 182 257 364 471  32\n",
       "[20]  55  85 123 165 232 301 386 547  36  62 101 157 205 284 361 490 557"
      ]
     },
     "metadata": {},
     "output_type": "display_data"
    }
   ],
   "source": [
    "smoking$ratio"
   ]
  },
  {
   "cell_type": "code",
   "execution_count": 177,
   "metadata": {},
   "outputs": [
    {
     "name": "stdout",
     "output_type": "stream",
     "text": [
      "  |======================================================================| 100%\n"
     ]
    }
   ],
   "source": [
    "data<-as.h2o(smoking)"
   ]
  },
  {
   "cell_type": "code",
   "execution_count": 178,
   "metadata": {},
   "outputs": [
    {
     "data": {
      "text/html": [
       "56122"
      ],
      "text/latex": [
       "56122"
      ],
      "text/markdown": [
       "56122"
      ],
      "text/plain": [
       "[1] 56122"
      ]
     },
     "metadata": {},
     "output_type": "display_data"
    }
   ],
   "source": [
    "h2o.sum(data[,3])"
   ]
  },
  {
   "cell_type": "code",
   "execution_count": 179,
   "metadata": {},
   "outputs": [],
   "source": [
    "#defining x and y \n",
    "x<-1:2\n",
    "y<-5"
   ]
  },
  {
   "cell_type": "code",
   "execution_count": 183,
   "metadata": {},
   "outputs": [
    {
     "name": "stdout",
     "output_type": "stream",
     "text": [
      "  |======================================================================| 100%\n"
     ]
    }
   ],
   "source": [
    "m= h2o.glm(x,y,data,family = 'poisson',model_id = 'smoking_p')#nfolds=12,#fold_assignment = 'Modulo'"
   ]
  },
  {
   "cell_type": "code",
   "execution_count": 184,
   "metadata": {},
   "outputs": [
    {
     "data": {
      "text/plain": [
       "Model Details:\n",
       "==============\n",
       "\n",
       "H2ORegressionModel: glm\n",
       "Model ID:  smoking_p \n",
       "GLM Model: summary\n",
       "   family link                              regularization\n",
       "1 poisson  log Elastic Net (alpha = 0.5, lambda = 6.6383 )\n",
       "  number_of_predictors_total number_of_active_predictors number_of_iterations\n",
       "1                         13                          11                    4\n",
       "  training_frame\n",
       "1        smoking\n",
       "\n",
       "Coefficients: glm coefficients\n",
       "                  names coefficients standardized_coefficients\n",
       "1             Intercept     5.105058                  5.105058\n",
       "2             age.40-44    -0.747628                 -0.747628\n",
       "3             age.45-59    -0.520373                 -0.520373\n",
       "4             age.50-54    -0.381225                 -0.381225\n",
       "5             age.55-59    -0.106967                 -0.106967\n",
       "6             age.60-64     0.000000                  0.000000\n",
       "7             age.65-69     0.121153                  0.121153\n",
       "8             age.70-74     0.418143                  0.418143\n",
       "9             age.75-79     0.714450                  0.714450\n",
       "10              age.80+     0.976030                  0.976030\n",
       "11  smoke.cigarPipeOnly    -0.054288                 -0.054288\n",
       "12 smoke.cigarretteOnly     0.154792                  0.154792\n",
       "13 smoke.cigarrettePlus     0.000000                  0.000000\n",
       "14             smoke.no    -0.057016                 -0.057016\n",
       "\n",
       "H2ORegressionMetrics: glm\n",
       "** Reported on training data. **\n",
       "\n",
       "MSE:  2317\n",
       "RMSE:  48.14\n",
       "MAE:  42.01\n",
       "RMSLE:  0.5195\n",
       "Mean Residual Deviance :  16.57\n",
       "R^2 :  0.9083\n",
       "Null Deviance :4452\n",
       "Null D.o.F. :35\n",
       "Residual Deviance :596.4\n",
       "Residual D.o.F. :24\n",
       "AIC :864.1\n",
       "\n",
       "\n",
       "\n"
      ]
     },
     "metadata": {},
     "output_type": "display_data"
    }
   ],
   "source": [
    "m"
   ]
  },
  {
   "cell_type": "markdown",
   "metadata": {},
   "source": [
    "#smoke or not ignorin age"
   ]
  },
  {
   "cell_type": "code",
   "execution_count": 185,
   "metadata": {},
   "outputs": [
    {
     "name": "stdout",
     "output_type": "stream",
     "text": [
      "  |======================================================================| 100%\n"
     ]
    }
   ],
   "source": [
    "m2= h2o.glm(2,y,data,family = 'poisson',model_id = 'smoking_2')#nfolds=12,#fold_assignment = 'Modulo'"
   ]
  },
  {
   "cell_type": "code",
   "execution_count": 186,
   "metadata": {},
   "outputs": [
    {
     "data": {
      "text/plain": [
       "Model Details:\n",
       "==============\n",
       "\n",
       "H2ORegressionModel: glm\n",
       "Model ID:  smoking_2 \n",
       "GLM Model: summary\n",
       "   family link                              regularization\n",
       "1 poisson  log Elastic Net (alpha = 0.5, lambda = 2.3028 )\n",
       "  number_of_predictors_total number_of_active_predictors number_of_iterations\n",
       "1                          4                           4                    2\n",
       "  training_frame\n",
       "1        smoking\n",
       "\n",
       "Coefficients: glm coefficients\n",
       "                 names coefficients standardized_coefficients\n",
       "1            Intercept     5.311709                  5.311709\n",
       "2  smoke.cigarPipeOnly    -0.108923                 -0.108923\n",
       "3 smoke.cigarretteOnly     0.189113                  0.189113\n",
       "4 smoke.cigarrettePlus     0.031812                  0.031812\n",
       "5             smoke.no    -0.111906                 -0.111906\n",
       "\n",
       "H2ORegressionMetrics: glm\n",
       "** Reported on training data. **\n",
       "\n",
       "MSE:  24343\n",
       "RMSE:  156\n",
       "MAE:  132.7\n",
       "RMSLE:  1.014\n",
       "Mean Residual Deviance :  119.3\n",
       "R^2 :  0.03629\n",
       "Null Deviance :4452\n",
       "Null D.o.F. :35\n",
       "Residual Deviance :4294\n",
       "Residual D.o.F. :31\n",
       "AIC :4547\n",
       "\n",
       "\n",
       "\n"
      ]
     },
     "metadata": {},
     "output_type": "display_data"
    }
   ],
   "source": [
    "m2"
   ]
  },
  {
   "cell_type": "code",
   "execution_count": null,
   "metadata": {},
   "outputs": [],
   "source": []
  }
 ],
 "metadata": {},
 "nbformat": 4,
 "nbformat_minor": 2
}
