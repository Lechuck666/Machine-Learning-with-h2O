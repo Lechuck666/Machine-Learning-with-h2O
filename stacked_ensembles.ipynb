{
 "cells": [
  {
   "cell_type": "code",
   "execution_count": 23,
   "metadata": {},
   "outputs": [],
   "source": [
    "import h2o\n",
    "import numpy as np"
   ]
  },
  {
   "cell_type": "code",
   "execution_count": 24,
   "metadata": {},
   "outputs": [],
   "source": [
    "import matplotlib.pyplot as plt\n",
    "%matplotlib inline"
   ]
  },
  {
   "cell_type": "code",
   "execution_count": 25,
   "metadata": {},
   "outputs": [
    {
     "name": "stdout",
     "output_type": "stream",
     "text": [
      "Checking whether there is an H2O instance running at http://localhost:54321. connected.\n"
     ]
    },
    {
     "data": {
      "text/html": [
       "<div style=\"overflow:auto\"><table style=\"width:50%\"><tr><td>H2O cluster uptime:</td>\n",
       "<td>3 days 13 hours 6 mins</td></tr>\n",
       "<tr><td>H2O cluster timezone:</td>\n",
       "<td>Asia/Kolkata</td></tr>\n",
       "<tr><td>H2O data parsing timezone:</td>\n",
       "<td>UTC</td></tr>\n",
       "<tr><td>H2O cluster version:</td>\n",
       "<td>3.20.0.2</td></tr>\n",
       "<tr><td>H2O cluster version age:</td>\n",
       "<td>16 days </td></tr>\n",
       "<tr><td>H2O cluster name:</td>\n",
       "<td>H2O_started_from_R_raj_cjn618</td></tr>\n",
       "<tr><td>H2O cluster total nodes:</td>\n",
       "<td>1</td></tr>\n",
       "<tr><td>H2O cluster free memory:</td>\n",
       "<td>2.457 Gb</td></tr>\n",
       "<tr><td>H2O cluster total cores:</td>\n",
       "<td>8</td></tr>\n",
       "<tr><td>H2O cluster allowed cores:</td>\n",
       "<td>8</td></tr>\n",
       "<tr><td>H2O cluster status:</td>\n",
       "<td>locked, healthy</td></tr>\n",
       "<tr><td>H2O connection url:</td>\n",
       "<td>http://localhost:54321</td></tr>\n",
       "<tr><td>H2O connection proxy:</td>\n",
       "<td>None</td></tr>\n",
       "<tr><td>H2O internal security:</td>\n",
       "<td>False</td></tr>\n",
       "<tr><td>H2O API Extensions:</td>\n",
       "<td>XGBoost, Algos, AutoML, Core V3, Core V4</td></tr>\n",
       "<tr><td>Python version:</td>\n",
       "<td>3.6.5 final</td></tr></table></div>"
      ],
      "text/plain": [
       "--------------------------  ----------------------------------------\n",
       "H2O cluster uptime:         3 days 13 hours 6 mins\n",
       "H2O cluster timezone:       Asia/Kolkata\n",
       "H2O data parsing timezone:  UTC\n",
       "H2O cluster version:        3.20.0.2\n",
       "H2O cluster version age:    16 days\n",
       "H2O cluster name:           H2O_started_from_R_raj_cjn618\n",
       "H2O cluster total nodes:    1\n",
       "H2O cluster free memory:    2.457 Gb\n",
       "H2O cluster total cores:    8\n",
       "H2O cluster allowed cores:  8\n",
       "H2O cluster status:         locked, healthy\n",
       "H2O connection url:         http://localhost:54321\n",
       "H2O connection proxy:\n",
       "H2O internal security:      False\n",
       "H2O API Extensions:         XGBoost, Algos, AutoML, Core V3, Core V4\n",
       "Python version:             3.6.5 final\n",
       "--------------------------  ----------------------------------------"
      ]
     },
     "metadata": {},
     "output_type": "display_data"
    }
   ],
   "source": [
    "h2o.init()"
   ]
  },
  {
   "cell_type": "code",
   "execution_count": 26,
   "metadata": {},
   "outputs": [
    {
     "name": "stdout",
     "output_type": "stream",
     "text": [
      "Parse progress: |█████████████████████████████████████████████████████████| 100%\n"
     ]
    }
   ],
   "source": [
    "url =  \"http://h2o-public-test-data.s3.amazonaws.com/smalldata/airlines/allyears2k_headers.zip\"\n",
    "data=h2o.import_file(url)"
   ]
  },
  {
   "cell_type": "code",
   "execution_count": 27,
   "metadata": {},
   "outputs": [],
   "source": [
    "train,valid,test=data.split_frame([0.8,0.1],seed=69)"
   ]
  },
  {
   "cell_type": "code",
   "execution_count": 28,
   "metadata": {},
   "outputs": [
    {
     "name": "stdout",
     "output_type": "stream",
     "text": [
      "35255/4272/4451\n"
     ]
    }
   ],
   "source": [
    "print(\"%d/%d/%d\" %(train.nrows,valid.nrows,test.nrows))"
   ]
  },
  {
   "cell_type": "code",
   "execution_count": 29,
   "metadata": {},
   "outputs": [],
   "source": [
    "y='IsArrDelayed' # binomial Classification\n",
    "ignoreFields=['ArrDelay',\n",
    " 'DepDelay','CarrierDelay',\n",
    " 'WeatherDelay',\n",
    " 'NASDelay',\n",
    " 'SecurityDelay',\n",
    " 'LateAircraftDelay','IsArrDelayed',\n",
    " 'IsDepDelayed','ActualElapsedTime','ArrTime','TailNum']\n",
    "x=[i for i in train.names if i not in ignoreFields]"
   ]
  },
  {
   "cell_type": "code",
   "execution_count": 30,
   "metadata": {},
   "outputs": [],
   "source": [
    "nfolds=5\n",
    "train2=train.rbind(valid)"
   ]
  },
  {
   "cell_type": "code",
   "execution_count": 31,
   "metadata": {},
   "outputs": [
    {
     "data": {
      "text/plain": [
       "39527"
      ]
     },
     "execution_count": 31,
     "metadata": {},
     "output_type": "execute_result"
    }
   ],
   "source": [
    "train2.nrows"
   ]
  },
  {
   "cell_type": "code",
   "execution_count": 32,
   "metadata": {},
   "outputs": [],
   "source": [
    "from h2o.estimators.random_forest import H2ORandomForestEstimator\n",
    "from h2o.estimators.gbm import H2OGradientBoostingEstimator\n",
    "from h2o.estimators.glm import H2OGeneralizedLinearEstimator\n",
    "from h2o.estimators.stackedensemble import H2OStackedEnsembleEstimator"
   ]
  },
  {
   "cell_type": "code",
   "execution_count": 33,
   "metadata": {},
   "outputs": [
    {
     "name": "stdout",
     "output_type": "stream",
     "text": [
      "glm Model Build progress: |███████████████████████████████████████████████| 100%\n"
     ]
    }
   ],
   "source": [
    "m_GLM= H2OGeneralizedLinearEstimator(\n",
    "family='binomial',\n",
    "model_id='glm_def',\n",
    "nfolds=nfolds,\n",
    "fold_assignment=\"Modulo\",\n",
    "keep_cross_validation_predictions=True)\n",
    "m_GLM.train(x,y,train2)"
   ]
  },
  {
   "cell_type": "code",
   "execution_count": 34,
   "metadata": {},
   "outputs": [
    {
     "name": "stdout",
     "output_type": "stream",
     "text": [
      "gbm Model Build progress: |███████████████████████████████████████████████| 100%\n"
     ]
    }
   ],
   "source": [
    "m_GBM= H2OGradientBoostingEstimator(\n",
    "model_id='gbm_def',\n",
    "nfolds=nfolds,\n",
    "fold_assignment=\"Modulo\",\n",
    "keep_cross_validation_predictions=True)\n",
    "m_GBM.train(x,y,train2)"
   ]
  },
  {
   "cell_type": "code",
   "execution_count": 35,
   "metadata": {},
   "outputs": [
    {
     "name": "stdout",
     "output_type": "stream",
     "text": [
      "gbm Model Build progress: |███████████████████████████████████████████████| 100%\n"
     ]
    }
   ],
   "source": [
    "m_RF= H2OGradientBoostingEstimator(\n",
    "model_id='rf_def',\n",
    "nfolds=nfolds,\n",
    "fold_assignment=\"Modulo\",\n",
    "keep_cross_validation_predictions=True)\n",
    "m_RF.train(x,y,train2)"
   ]
  },
  {
   "cell_type": "code",
   "execution_count": 36,
   "metadata": {},
   "outputs": [],
   "source": [
    "models=[m_GLM.model_id,m_GBM.model_id,m_RF.model_id]"
   ]
  },
  {
   "cell_type": "code",
   "execution_count": 37,
   "metadata": {},
   "outputs": [
    {
     "name": "stdout",
     "output_type": "stream",
     "text": [
      "stackedensemble Model Build progress: |███████████████████████████████████| 100%\n"
     ]
    }
   ],
   "source": [
    "m_SE= H2OStackedEnsembleEstimator(model_id='SE_glm_gbm_rf',base_models=models)\n",
    "m_SE.train(x,y,train2)"
   ]
  },
  {
   "cell_type": "code",
   "execution_count": 38,
   "metadata": {},
   "outputs": [],
   "source": [
    "import pandas as pd"
   ]
  },
  {
   "cell_type": "markdown",
   "metadata": {},
   "source": [
    "### Analyzing the Performance"
   ]
  },
  {
   "cell_type": "code",
   "execution_count": 39,
   "metadata": {},
   "outputs": [],
   "source": [
    "all_models=[m_GLM,m_GBM,m_RF,m_SE]"
   ]
  },
  {
   "cell_type": "code",
   "execution_count": 40,
   "metadata": {},
   "outputs": [],
   "source": [
    "names=['GLM','GBM','RF','SE']"
   ]
  },
  {
   "cell_type": "code",
   "execution_count": 41,
   "metadata": {},
   "outputs": [
    {
     "data": {
      "text/plain": [
       "GLM    0.573282\n",
       "GBM    0.508120\n",
       "RF     0.508120\n",
       "SE     0.484990\n",
       "dtype: float64"
      ]
     },
     "execution_count": 41,
     "metadata": {},
     "output_type": "execute_result"
    }
   ],
   "source": [
    "pd.Series(map(lambda x : x.logloss(),all_models),names) # lower is better"
   ]
  },
  {
   "cell_type": "code",
   "execution_count": 42,
   "metadata": {},
   "outputs": [
    {
     "data": {
      "text/plain": [
       "GLM    0.768183\n",
       "GBM    0.850473\n",
       "RF     0.850473\n",
       "SE     0.846251\n",
       "dtype: float64"
      ]
     },
     "execution_count": 42,
     "metadata": {},
     "output_type": "execute_result"
    }
   ],
   "source": [
    "pd.Series(map(lambda x : x.auc(),all_models),names) # data it was trained on"
   ]
  },
  {
   "cell_type": "code",
   "execution_count": 43,
   "metadata": {},
   "outputs": [
    {
     "data": {
      "text/plain": [
       "GLM    0.760952\n",
       "GBM    0.805887\n",
       "RF     0.805887\n",
       "SE          NaN\n",
       "dtype: float64"
      ]
     },
     "execution_count": 43,
     "metadata": {},
     "output_type": "execute_result"
    }
   ],
   "source": [
    "pd.Series(map(lambda x : x.auc(xval=True),all_models),names) # cross validation results"
   ]
  },
  {
   "cell_type": "code",
   "execution_count": null,
   "metadata": {},
   "outputs": [],
   "source": [
    "# no cross validation set, stacked ensemble was built on all data"
   ]
  },
  {
   "cell_type": "code",
   "execution_count": 45,
   "metadata": {},
   "outputs": [],
   "source": [
    "test_perf=list(map(lambda x : x.model_performance(test),all_models))"
   ]
  },
  {
   "cell_type": "code",
   "execution_count": 47,
   "metadata": {},
   "outputs": [
    {
     "data": {
      "text/plain": [
       "GLM    0.580694\n",
       "GBM    0.544807\n",
       "RF     0.544807\n",
       "SE     0.533573\n",
       "dtype: float64"
      ]
     },
     "execution_count": 47,
     "metadata": {},
     "output_type": "execute_result"
    }
   ],
   "source": [
    "pd.Series(map(lambda x : x.logloss(),test_perf),names)"
   ]
  },
  {
   "cell_type": "code",
   "execution_count": 46,
   "metadata": {},
   "outputs": [
    {
     "data": {
      "text/plain": [
       "GLM    0.755183\n",
       "GBM    0.801738\n",
       "RF     0.801738\n",
       "SE     0.802337\n",
       "dtype: float64"
      ]
     },
     "execution_count": 46,
     "metadata": {},
     "output_type": "execute_result"
    }
   ],
   "source": [
    "pd.Series(map(lambda x : x.auc(),test_perf),names)"
   ]
  },
  {
   "cell_type": "code",
   "execution_count": 48,
   "metadata": {},
   "outputs": [],
   "source": [
    "# Saving mojo/pojo/binary"
   ]
  },
  {
   "cell_type": "code",
   "execution_count": 49,
   "metadata": {},
   "outputs": [
    {
     "data": {
      "text/plain": [
       "'/private/tmp/models/gbm_def.zip'"
      ]
     },
     "execution_count": 49,
     "metadata": {},
     "output_type": "execute_result"
    }
   ],
   "source": [
    "m_GBM.save_mojo(\"/tmp/models\")"
   ]
  },
  {
   "cell_type": "code",
   "execution_count": 53,
   "metadata": {},
   "outputs": [
    {
     "data": {
      "text/plain": [
       "'/tmp/models/gbm_def.java'"
      ]
     },
     "execution_count": 53,
     "metadata": {},
     "output_type": "execute_result"
    }
   ],
   "source": [
    "#m_GBM.download_mojo(\"/tmp/models\")\n",
    "m_GBM.download_pojo(\"/tmp/models\")"
   ]
  },
  {
   "cell_type": "code",
   "execution_count": 51,
   "metadata": {},
   "outputs": [
    {
     "data": {
      "text/plain": [
       "'/private/tmp/models/gbm_def.json'"
      ]
     },
     "execution_count": 51,
     "metadata": {},
     "output_type": "execute_result"
    }
   ],
   "source": [
    "m_GBM.save_model_details(\"/tmp/models\") # creates a json object [same as flow interface]"
   ]
  },
  {
   "cell_type": "code",
   "execution_count": 52,
   "metadata": {},
   "outputs": [
    {
     "data": {
      "text/plain": [
       "'/private/tmp/models/gbm_def'"
      ]
     },
     "execution_count": 52,
     "metadata": {},
     "output_type": "execute_result"
    }
   ],
   "source": [
    "# m_GBM.save_model -> no\n",
    "h2o.save_model(m_GBM,\"/tmp/models\") #for comparison , you can save binary object"
   ]
  },
  {
   "cell_type": "code",
   "execution_count": 54,
   "metadata": {},
   "outputs": [
    {
     "name": "stdout",
     "output_type": "stream",
     "text": [
      "Model Details\n",
      "=============\n",
      "H2OGradientBoostingEstimator :  Gradient Boosting Machine\n",
      "Model Key:  gbm_def\n",
      "\n",
      "\n",
      "ModelMetricsBinomial: gbm\n",
      "** Reported on train data. **\n",
      "\n",
      "MSE: 0.16735639801328567\n",
      "RMSE: 0.4090921632264369\n",
      "LogLoss: 0.5081200815906951\n",
      "Mean Per-Class Error: 0.23428084622047485\n",
      "AUC: 0.8504733739633966\n",
      "Gini: 0.7009467479267932\n",
      "Confusion Matrix (Act/Pred) for max f1 @ threshold = 0.4601094284051148: \n"
     ]
    },
    {
     "data": {
      "text/html": [
       "<div style=\"overflow:auto\"><table style=\"width:50%\"><tr><td><b></b></td>\n",
       "<td><b>NO</b></td>\n",
       "<td><b>YES</b></td>\n",
       "<td><b>Error</b></td>\n",
       "<td><b>Rate</b></td></tr>\n",
       "<tr><td>NO</td>\n",
       "<td>10716.0</td>\n",
       "<td>6871.0</td>\n",
       "<td>0.3907</td>\n",
       "<td> (6871.0/17587.0)</td></tr>\n",
       "<tr><td>YES</td>\n",
       "<td>2790.0</td>\n",
       "<td>19150.0</td>\n",
       "<td>0.1272</td>\n",
       "<td> (2790.0/21940.0)</td></tr>\n",
       "<tr><td>Total</td>\n",
       "<td>13506.0</td>\n",
       "<td>26021.0</td>\n",
       "<td>0.2444</td>\n",
       "<td> (9661.0/39527.0)</td></tr></table></div>"
      ],
      "text/plain": [
       "       NO     YES    Error    Rate\n",
       "-----  -----  -----  -------  ----------------\n",
       "NO     10716  6871   0.3907   (6871.0/17587.0)\n",
       "YES    2790   19150  0.1272   (2790.0/21940.0)\n",
       "Total  13506  26021  0.2444   (9661.0/39527.0)"
      ]
     },
     "metadata": {},
     "output_type": "display_data"
    },
    {
     "name": "stdout",
     "output_type": "stream",
     "text": [
      "Maximum Metrics: Maximum metrics at their respective thresholds\n",
      "\n"
     ]
    },
    {
     "data": {
      "text/html": [
       "<div style=\"overflow:auto\"><table style=\"width:50%\"><tr><td><b>metric</b></td>\n",
       "<td><b>threshold</b></td>\n",
       "<td><b>value</b></td>\n",
       "<td><b>idx</b></td></tr>\n",
       "<tr><td>max f1</td>\n",
       "<td>0.4601094</td>\n",
       "<td>0.7985655</td>\n",
       "<td>248.0</td></tr>\n",
       "<tr><td>max f2</td>\n",
       "<td>0.3134609</td>\n",
       "<td>0.8789982</td>\n",
       "<td>320.0</td></tr>\n",
       "<tr><td>max f0point5</td>\n",
       "<td>0.5948227</td>\n",
       "<td>0.8069861</td>\n",
       "<td>175.0</td></tr>\n",
       "<tr><td>max accuracy</td>\n",
       "<td>0.5208668</td>\n",
       "<td>0.7660839</td>\n",
       "<td>216.0</td></tr>\n",
       "<tr><td>max precision</td>\n",
       "<td>0.9847206</td>\n",
       "<td>1.0</td>\n",
       "<td>0.0</td></tr>\n",
       "<tr><td>max recall</td>\n",
       "<td>0.1400292</td>\n",
       "<td>1.0</td>\n",
       "<td>390.0</td></tr>\n",
       "<tr><td>max specificity</td>\n",
       "<td>0.9847206</td>\n",
       "<td>1.0</td>\n",
       "<td>0.0</td></tr>\n",
       "<tr><td>max absolute_mcc</td>\n",
       "<td>0.5551244</td>\n",
       "<td>0.5282309</td>\n",
       "<td>198.0</td></tr>\n",
       "<tr><td>max min_per_class_accuracy</td>\n",
       "<td>0.5357913</td>\n",
       "<td>0.7646308</td>\n",
       "<td>208.0</td></tr>\n",
       "<tr><td>max mean_per_class_accuracy</td>\n",
       "<td>0.5551244</td>\n",
       "<td>0.7657192</td>\n",
       "<td>198.0</td></tr></table></div>"
      ],
      "text/plain": [
       "metric                       threshold    value     idx\n",
       "---------------------------  -----------  --------  -----\n",
       "max f1                       0.460109     0.798566  248\n",
       "max f2                       0.313461     0.878998  320\n",
       "max f0point5                 0.594823     0.806986  175\n",
       "max accuracy                 0.520867     0.766084  216\n",
       "max precision                0.984721     1         0\n",
       "max recall                   0.140029     1         390\n",
       "max specificity              0.984721     1         0\n",
       "max absolute_mcc             0.555124     0.528231  198\n",
       "max min_per_class_accuracy   0.535791     0.764631  208\n",
       "max mean_per_class_accuracy  0.555124     0.765719  198"
      ]
     },
     "metadata": {},
     "output_type": "display_data"
    },
    {
     "name": "stdout",
     "output_type": "stream",
     "text": [
      "Gains/Lift Table: Avg response rate: 55.51 %\n",
      "\n"
     ]
    },
    {
     "data": {
      "text/html": [
       "<div style=\"overflow:auto\"><table style=\"width:50%\"><tr><td><b></b></td>\n",
       "<td><b>group</b></td>\n",
       "<td><b>cumulative_data_fraction</b></td>\n",
       "<td><b>lower_threshold</b></td>\n",
       "<td><b>lift</b></td>\n",
       "<td><b>cumulative_lift</b></td>\n",
       "<td><b>response_rate</b></td>\n",
       "<td><b>cumulative_response_rate</b></td>\n",
       "<td><b>capture_rate</b></td>\n",
       "<td><b>cumulative_capture_rate</b></td>\n",
       "<td><b>gain</b></td>\n",
       "<td><b>cumulative_gain</b></td></tr>\n",
       "<tr><td></td>\n",
       "<td>1</td>\n",
       "<td>0.0100185</td>\n",
       "<td>0.9629966</td>\n",
       "<td>1.8015953</td>\n",
       "<td>1.8015953</td>\n",
       "<td>1.0</td>\n",
       "<td>1.0</td>\n",
       "<td>0.0180492</td>\n",
       "<td>0.0180492</td>\n",
       "<td>80.1595260</td>\n",
       "<td>80.1595260</td></tr>\n",
       "<tr><td></td>\n",
       "<td>2</td>\n",
       "<td>0.0200116</td>\n",
       "<td>0.9467954</td>\n",
       "<td>1.8015953</td>\n",
       "<td>1.8015953</td>\n",
       "<td>1.0</td>\n",
       "<td>1.0</td>\n",
       "<td>0.0180036</td>\n",
       "<td>0.0360529</td>\n",
       "<td>80.1595260</td>\n",
       "<td>80.1595260</td></tr>\n",
       "<tr><td></td>\n",
       "<td>3</td>\n",
       "<td>0.0300048</td>\n",
       "<td>0.9321607</td>\n",
       "<td>1.8015953</td>\n",
       "<td>1.8015953</td>\n",
       "<td>1.0</td>\n",
       "<td>1.0</td>\n",
       "<td>0.0180036</td>\n",
       "<td>0.0540565</td>\n",
       "<td>80.1595260</td>\n",
       "<td>80.1595260</td></tr>\n",
       "<tr><td></td>\n",
       "<td>4</td>\n",
       "<td>0.0400233</td>\n",
       "<td>0.9174588</td>\n",
       "<td>1.8015953</td>\n",
       "<td>1.8015953</td>\n",
       "<td>1.0</td>\n",
       "<td>1.0</td>\n",
       "<td>0.0180492</td>\n",
       "<td>0.0721057</td>\n",
       "<td>80.1595260</td>\n",
       "<td>80.1595260</td></tr>\n",
       "<tr><td></td>\n",
       "<td>5</td>\n",
       "<td>0.0500164</td>\n",
       "<td>0.9039982</td>\n",
       "<td>1.8015953</td>\n",
       "<td>1.8015953</td>\n",
       "<td>1.0</td>\n",
       "<td>1.0</td>\n",
       "<td>0.0180036</td>\n",
       "<td>0.0901094</td>\n",
       "<td>80.1595260</td>\n",
       "<td>80.1595260</td></tr>\n",
       "<tr><td></td>\n",
       "<td>6</td>\n",
       "<td>0.1000076</td>\n",
       "<td>0.8453925</td>\n",
       "<td>1.7487144</td>\n",
       "<td>1.7751615</td>\n",
       "<td>0.9706478</td>\n",
       "<td>0.9853276</td>\n",
       "<td>0.0874202</td>\n",
       "<td>0.1775296</td>\n",
       "<td>74.8714427</td>\n",
       "<td>77.5161532</td></tr>\n",
       "<tr><td></td>\n",
       "<td>7</td>\n",
       "<td>0.1499987</td>\n",
       "<td>0.7918188</td>\n",
       "<td>1.6885397</td>\n",
       "<td>1.7462925</td>\n",
       "<td>0.9372470</td>\n",
       "<td>0.9693034</td>\n",
       "<td>0.0844120</td>\n",
       "<td>0.2619417</td>\n",
       "<td>68.8539687</td>\n",
       "<td>74.6292454</td></tr>\n",
       "<tr><td></td>\n",
       "<td>8</td>\n",
       "<td>0.2000152</td>\n",
       "<td>0.7427635</td>\n",
       "<td>1.6156947</td>\n",
       "<td>1.7136348</td>\n",
       "<td>0.8968134</td>\n",
       "<td>0.9511763</td>\n",
       "<td>0.0808113</td>\n",
       "<td>0.3427530</td>\n",
       "<td>61.5694687</td>\n",
       "<td>71.3634753</td></tr>\n",
       "<tr><td></td>\n",
       "<td>9</td>\n",
       "<td>0.2999975</td>\n",
       "<td>0.6704044</td>\n",
       "<td>1.5244268</td>\n",
       "<td>1.6505761</td>\n",
       "<td>0.8461538</td>\n",
       "<td>0.9161747</td>\n",
       "<td>0.1524157</td>\n",
       "<td>0.4951686</td>\n",
       "<td>52.4426758</td>\n",
       "<td>65.0576059</td></tr>\n",
       "<tr><td></td>\n",
       "<td>10</td>\n",
       "<td>0.4000051</td>\n",
       "<td>0.6089420</td>\n",
       "<td>1.3011775</td>\n",
       "<td>1.5632209</td>\n",
       "<td>0.7222363</td>\n",
       "<td>0.8676871</td>\n",
       "<td>0.1301276</td>\n",
       "<td>0.6252963</td>\n",
       "<td>30.1177452</td>\n",
       "<td>56.3220882</td></tr>\n",
       "<tr><td></td>\n",
       "<td>11</td>\n",
       "<td>0.5000126</td>\n",
       "<td>0.5513257</td>\n",
       "<td>1.1070263</td>\n",
       "<td>1.4719773</td>\n",
       "<td>0.6144700</td>\n",
       "<td>0.8170411</td>\n",
       "<td>0.1107110</td>\n",
       "<td>0.7360073</td>\n",
       "<td>10.7026280</td>\n",
       "<td>47.1977345</td></tr>\n",
       "<tr><td></td>\n",
       "<td>12</td>\n",
       "<td>0.5999949</td>\n",
       "<td>0.4942778</td>\n",
       "<td>0.9149296</td>\n",
       "<td>1.3791517</td>\n",
       "<td>0.5078441</td>\n",
       "<td>0.7655170</td>\n",
       "<td>0.0914768</td>\n",
       "<td>0.8274840</td>\n",
       "<td>-8.5070423</td>\n",
       "<td>37.9151709</td></tr>\n",
       "<tr><td></td>\n",
       "<td>13</td>\n",
       "<td>0.7000025</td>\n",
       "<td>0.4303154</td>\n",
       "<td>0.7251045</td>\n",
       "<td>1.2857096</td>\n",
       "<td>0.4024791</td>\n",
       "<td>0.7136507</td>\n",
       "<td>0.0725160</td>\n",
       "<td>0.9</td>\n",
       "<td>-27.4895508</td>\n",
       "<td>28.5709639</td></tr>\n",
       "<tr><td></td>\n",
       "<td>14</td>\n",
       "<td>0.7999848</td>\n",
       "<td>0.3621112</td>\n",
       "<td>0.5133088</td>\n",
       "<td>1.1891748</td>\n",
       "<td>0.2849190</td>\n",
       "<td>0.6600677</td>\n",
       "<td>0.0513218</td>\n",
       "<td>0.9513218</td>\n",
       "<td>-48.6691229</td>\n",
       "<td>18.9174797</td></tr>\n",
       "<tr><td></td>\n",
       "<td>15</td>\n",
       "<td>0.9000177</td>\n",
       "<td>0.2804260</td>\n",
       "<td>0.3599545</td>\n",
       "<td>1.0970107</td>\n",
       "<td>0.1997977</td>\n",
       "<td>0.6089108</td>\n",
       "<td>0.0360073</td>\n",
       "<td>0.9873291</td>\n",
       "<td>-64.0045459</td>\n",
       "<td>9.7010724</td></tr>\n",
       "<tr><td></td>\n",
       "<td>16</td>\n",
       "<td>1.0</td>\n",
       "<td>0.0722502</td>\n",
       "<td>0.1267317</td>\n",
       "<td>1.0</td>\n",
       "<td>0.0703441</td>\n",
       "<td>0.5550636</td>\n",
       "<td>0.0126709</td>\n",
       "<td>1.0</td>\n",
       "<td>-87.3268350</td>\n",
       "<td>0.0</td></tr></table></div>"
      ],
      "text/plain": [
       "    group    cumulative_data_fraction    lower_threshold    lift      cumulative_lift    response_rate    cumulative_response_rate    capture_rate    cumulative_capture_rate    gain      cumulative_gain\n",
       "--  -------  --------------------------  -----------------  --------  -----------------  ---------------  --------------------------  --------------  -------------------------  --------  -----------------\n",
       "    1        0.0100185                   0.962997           1.8016    1.8016             1                1                           0.0180492       0.0180492                  80.1595   80.1595\n",
       "    2        0.0200116                   0.946795           1.8016    1.8016             1                1                           0.0180036       0.0360529                  80.1595   80.1595\n",
       "    3        0.0300048                   0.932161           1.8016    1.8016             1                1                           0.0180036       0.0540565                  80.1595   80.1595\n",
       "    4        0.0400233                   0.917459           1.8016    1.8016             1                1                           0.0180492       0.0721057                  80.1595   80.1595\n",
       "    5        0.0500164                   0.903998           1.8016    1.8016             1                1                           0.0180036       0.0901094                  80.1595   80.1595\n",
       "    6        0.100008                    0.845393           1.74871   1.77516            0.970648         0.985328                    0.0874202       0.17753                    74.8714   77.5162\n",
       "    7        0.149999                    0.791819           1.68854   1.74629            0.937247         0.969303                    0.084412        0.261942                   68.854    74.6292\n",
       "    8        0.200015                    0.742763           1.61569   1.71363            0.896813         0.951176                    0.0808113       0.342753                   61.5695   71.3635\n",
       "    9        0.299997                    0.670404           1.52443   1.65058            0.846154         0.916175                    0.152416        0.495169                   52.4427   65.0576\n",
       "    10       0.400005                    0.608942           1.30118   1.56322            0.722236         0.867687                    0.130128        0.625296                   30.1177   56.3221\n",
       "    11       0.500013                    0.551326           1.10703   1.47198            0.61447          0.817041                    0.110711        0.736007                   10.7026   47.1977\n",
       "    12       0.599995                    0.494278           0.91493   1.37915            0.507844         0.765517                    0.0914768       0.827484                   -8.50704  37.9152\n",
       "    13       0.700003                    0.430315           0.725104  1.28571            0.402479         0.713651                    0.072516        0.9                        -27.4896  28.571\n",
       "    14       0.799985                    0.362111           0.513309  1.18917            0.284919         0.660068                    0.0513218       0.951322                   -48.6691  18.9175\n",
       "    15       0.900018                    0.280426           0.359955  1.09701            0.199798         0.608911                    0.0360073       0.987329                   -64.0045  9.70107\n",
       "    16       1                           0.0722502          0.126732  1                  0.0703441        0.555064                    0.0126709       1                          -87.3268  0"
      ]
     },
     "metadata": {},
     "output_type": "display_data"
    },
    {
     "name": "stdout",
     "output_type": "stream",
     "text": [
      "\n",
      "\n",
      "ModelMetricsBinomial: gbm\n",
      "** Reported on cross-validation data. **\n",
      "\n",
      "MSE: 0.18235852020014426\n",
      "RMSE: 0.4270345655800526\n",
      "LogLoss: 0.541772237998002\n",
      "Mean Per-Class Error: 0.27064939535650834\n",
      "AUC: 0.8058874117105745\n",
      "Gini: 0.6117748234211491\n",
      "Confusion Matrix (Act/Pred) for max f1 @ threshold = 0.446206535575455: \n"
     ]
    },
    {
     "data": {
      "text/html": [
       "<div style=\"overflow:auto\"><table style=\"width:50%\"><tr><td><b></b></td>\n",
       "<td><b>NO</b></td>\n",
       "<td><b>YES</b></td>\n",
       "<td><b>Error</b></td>\n",
       "<td><b>Rate</b></td></tr>\n",
       "<tr><td>NO</td>\n",
       "<td>9535.0</td>\n",
       "<td>8052.0</td>\n",
       "<td>0.4578</td>\n",
       "<td> (8052.0/17587.0)</td></tr>\n",
       "<tr><td>YES</td>\n",
       "<td>3163.0</td>\n",
       "<td>18777.0</td>\n",
       "<td>0.1442</td>\n",
       "<td> (3163.0/21940.0)</td></tr>\n",
       "<tr><td>Total</td>\n",
       "<td>12698.0</td>\n",
       "<td>26829.0</td>\n",
       "<td>0.2837</td>\n",
       "<td> (11215.0/39527.0)</td></tr></table></div>"
      ],
      "text/plain": [
       "       NO     YES    Error    Rate\n",
       "-----  -----  -----  -------  -----------------\n",
       "NO     9535   8052   0.4578   (8052.0/17587.0)\n",
       "YES    3163   18777  0.1442   (3163.0/21940.0)\n",
       "Total  12698  26829  0.2837   (11215.0/39527.0)"
      ]
     },
     "metadata": {},
     "output_type": "display_data"
    },
    {
     "name": "stdout",
     "output_type": "stream",
     "text": [
      "Maximum Metrics: Maximum metrics at their respective thresholds\n",
      "\n"
     ]
    },
    {
     "data": {
      "text/html": [
       "<div style=\"overflow:auto\"><table style=\"width:50%\"><tr><td><b>metric</b></td>\n",
       "<td><b>threshold</b></td>\n",
       "<td><b>value</b></td>\n",
       "<td><b>idx</b></td></tr>\n",
       "<tr><td>max f1</td>\n",
       "<td>0.4462065</td>\n",
       "<td>0.7700383</td>\n",
       "<td>253.0</td></tr>\n",
       "<tr><td>max f2</td>\n",
       "<td>0.2563970</td>\n",
       "<td>0.8677530</td>\n",
       "<td>343.0</td></tr>\n",
       "<tr><td>max f0point5</td>\n",
       "<td>0.5975501</td>\n",
       "<td>0.7695182</td>\n",
       "<td>172.0</td></tr>\n",
       "<tr><td>max accuracy</td>\n",
       "<td>0.5336832</td>\n",
       "<td>0.7290966</td>\n",
       "<td>206.0</td></tr>\n",
       "<tr><td>max precision</td>\n",
       "<td>0.9875308</td>\n",
       "<td>1.0</td>\n",
       "<td>0.0</td></tr>\n",
       "<tr><td>max recall</td>\n",
       "<td>0.1129000</td>\n",
       "<td>1.0</td>\n",
       "<td>396.0</td></tr>\n",
       "<tr><td>max specificity</td>\n",
       "<td>0.9875308</td>\n",
       "<td>1.0</td>\n",
       "<td>0.0</td></tr>\n",
       "<tr><td>max absolute_mcc</td>\n",
       "<td>0.5386940</td>\n",
       "<td>0.4559240</td>\n",
       "<td>203.0</td></tr>\n",
       "<tr><td>max min_per_class_accuracy</td>\n",
       "<td>0.5386940</td>\n",
       "<td>0.7271650</td>\n",
       "<td>203.0</td></tr>\n",
       "<tr><td>max mean_per_class_accuracy</td>\n",
       "<td>0.5531937</td>\n",
       "<td>0.7293506</td>\n",
       "<td>195.0</td></tr></table></div>"
      ],
      "text/plain": [
       "metric                       threshold    value     idx\n",
       "---------------------------  -----------  --------  -----\n",
       "max f1                       0.446207     0.770038  253\n",
       "max f2                       0.256397     0.867753  343\n",
       "max f0point5                 0.59755      0.769518  172\n",
       "max accuracy                 0.533683     0.729097  206\n",
       "max precision                0.987531     1         0\n",
       "max recall                   0.1129       1         396\n",
       "max specificity              0.987531     1         0\n",
       "max absolute_mcc             0.538694     0.455924  203\n",
       "max min_per_class_accuracy   0.538694     0.727165  203\n",
       "max mean_per_class_accuracy  0.553194     0.729351  195"
      ]
     },
     "metadata": {},
     "output_type": "display_data"
    },
    {
     "name": "stdout",
     "output_type": "stream",
     "text": [
      "Gains/Lift Table: Avg response rate: 55.51 %\n",
      "\n"
     ]
    },
    {
     "data": {
      "text/html": [
       "<div style=\"overflow:auto\"><table style=\"width:50%\"><tr><td><b></b></td>\n",
       "<td><b>group</b></td>\n",
       "<td><b>cumulative_data_fraction</b></td>\n",
       "<td><b>lower_threshold</b></td>\n",
       "<td><b>lift</b></td>\n",
       "<td><b>cumulative_lift</b></td>\n",
       "<td><b>response_rate</b></td>\n",
       "<td><b>cumulative_response_rate</b></td>\n",
       "<td><b>capture_rate</b></td>\n",
       "<td><b>cumulative_capture_rate</b></td>\n",
       "<td><b>gain</b></td>\n",
       "<td><b>cumulative_gain</b></td></tr>\n",
       "<tr><td></td>\n",
       "<td>1</td>\n",
       "<td>0.0100185</td>\n",
       "<td>0.9632241</td>\n",
       "<td>1.8015953</td>\n",
       "<td>1.8015953</td>\n",
       "<td>1.0</td>\n",
       "<td>1.0</td>\n",
       "<td>0.0180492</td>\n",
       "<td>0.0180492</td>\n",
       "<td>80.1595260</td>\n",
       "<td>80.1595260</td></tr>\n",
       "<tr><td></td>\n",
       "<td>2</td>\n",
       "<td>0.0200116</td>\n",
       "<td>0.9458224</td>\n",
       "<td>1.8015953</td>\n",
       "<td>1.8015953</td>\n",
       "<td>1.0</td>\n",
       "<td>1.0</td>\n",
       "<td>0.0180036</td>\n",
       "<td>0.0360529</td>\n",
       "<td>80.1595260</td>\n",
       "<td>80.1595260</td></tr>\n",
       "<tr><td></td>\n",
       "<td>3</td>\n",
       "<td>0.0300048</td>\n",
       "<td>0.9296230</td>\n",
       "<td>1.8015953</td>\n",
       "<td>1.8015953</td>\n",
       "<td>1.0</td>\n",
       "<td>1.0</td>\n",
       "<td>0.0180036</td>\n",
       "<td>0.0540565</td>\n",
       "<td>80.1595260</td>\n",
       "<td>80.1595260</td></tr>\n",
       "<tr><td></td>\n",
       "<td>4</td>\n",
       "<td>0.0400233</td>\n",
       "<td>0.9160172</td>\n",
       "<td>1.7697489</td>\n",
       "<td>1.7936236</td>\n",
       "<td>0.9823232</td>\n",
       "<td>0.9955752</td>\n",
       "<td>0.0177302</td>\n",
       "<td>0.0717867</td>\n",
       "<td>76.9748879</td>\n",
       "<td>79.3623599</td></tr>\n",
       "<tr><td></td>\n",
       "<td>5</td>\n",
       "<td>0.0500164</td>\n",
       "<td>0.9003288</td>\n",
       "<td>1.7514243</td>\n",
       "<td>1.7851923</td>\n",
       "<td>0.9721519</td>\n",
       "<td>0.9908953</td>\n",
       "<td>0.0175023</td>\n",
       "<td>0.0892890</td>\n",
       "<td>75.1424253</td>\n",
       "<td>78.5192268</td></tr>\n",
       "<tr><td></td>\n",
       "<td>6</td>\n",
       "<td>0.1000076</td>\n",
       "<td>0.8440970</td>\n",
       "<td>1.6876279</td>\n",
       "<td>1.7364224</td>\n",
       "<td>0.9367409</td>\n",
       "<td>0.9638249</td>\n",
       "<td>0.0843665</td>\n",
       "<td>0.1736554</td>\n",
       "<td>68.7627948</td>\n",
       "<td>73.6422449</td></tr>\n",
       "<tr><td></td>\n",
       "<td>7</td>\n",
       "<td>0.1499987</td>\n",
       "<td>0.7902493</td>\n",
       "<td>1.6128654</td>\n",
       "<td>1.6952437</td>\n",
       "<td>0.8952429</td>\n",
       "<td>0.9409681</td>\n",
       "<td>0.0806290</td>\n",
       "<td>0.2542844</td>\n",
       "<td>61.2865392</td>\n",
       "<td>69.5243710</td></tr>\n",
       "<tr><td></td>\n",
       "<td>8</td>\n",
       "<td>0.2000152</td>\n",
       "<td>0.7424064</td>\n",
       "<td>1.5427925</td>\n",
       "<td>1.6571213</td>\n",
       "<td>0.8563480</td>\n",
       "<td>0.9198077</td>\n",
       "<td>0.0771650</td>\n",
       "<td>0.3314494</td>\n",
       "<td>54.2792501</td>\n",
       "<td>65.7121266</td></tr>\n",
       "<tr><td></td>\n",
       "<td>9</td>\n",
       "<td>0.2999975</td>\n",
       "<td>0.6687679</td>\n",
       "<td>1.4113712</td>\n",
       "<td>1.5752184</td>\n",
       "<td>0.7834008</td>\n",
       "<td>0.8743464</td>\n",
       "<td>0.1411121</td>\n",
       "<td>0.4725615</td>\n",
       "<td>41.1371185</td>\n",
       "<td>57.5218389</td></tr>\n",
       "<tr><td></td>\n",
       "<td>10</td>\n",
       "<td>0.4000051</td>\n",
       "<td>0.6081973</td>\n",
       "<td>1.2346374</td>\n",
       "<td>1.4900678</td>\n",
       "<td>0.6853023</td>\n",
       "<td>0.8270824</td>\n",
       "<td>0.1234731</td>\n",
       "<td>0.5960346</td>\n",
       "<td>23.4637379</td>\n",
       "<td>49.0067751</td></tr>\n",
       "<tr><td></td>\n",
       "<td>11</td>\n",
       "<td>0.5000126</td>\n",
       "<td>0.5510662</td>\n",
       "<td>1.0787695</td>\n",
       "<td>1.4078039</td>\n",
       "<td>0.5987857</td>\n",
       "<td>0.7814208</td>\n",
       "<td>0.1078851</td>\n",
       "<td>0.7039198</td>\n",
       "<td>7.8769537</td>\n",
       "<td>40.7803946</td></tr>\n",
       "<tr><td></td>\n",
       "<td>12</td>\n",
       "<td>0.5999949</td>\n",
       "<td>0.4944711</td>\n",
       "<td>0.9053563</td>\n",
       "<td>1.3240768</td>\n",
       "<td>0.5025304</td>\n",
       "<td>0.7349469</td>\n",
       "<td>0.0905196</td>\n",
       "<td>0.7944394</td>\n",
       "<td>-9.4643678</td>\n",
       "<td>32.4076800</td></tr>\n",
       "<tr><td></td>\n",
       "<td>13</td>\n",
       "<td>0.7000025</td>\n",
       "<td>0.4314142</td>\n",
       "<td>0.7556400</td>\n",
       "<td>1.2428657</td>\n",
       "<td>0.4194283</td>\n",
       "<td>0.6898695</td>\n",
       "<td>0.0755697</td>\n",
       "<td>0.8700091</td>\n",
       "<td>-24.4359995</td>\n",
       "<td>24.2865673</td></tr>\n",
       "<tr><td></td>\n",
       "<td>14</td>\n",
       "<td>0.7999848</td>\n",
       "<td>0.3647341</td>\n",
       "<td>0.5898948</td>\n",
       "<td>1.1612572</td>\n",
       "<td>0.3274291</td>\n",
       "<td>0.6445716</td>\n",
       "<td>0.0589790</td>\n",
       "<td>0.9289881</td>\n",
       "<td>-41.0105196</td>\n",
       "<td>16.1257221</td></tr>\n",
       "<tr><td></td>\n",
       "<td>15</td>\n",
       "<td>0.8999924</td>\n",
       "<td>0.2822821</td>\n",
       "<td>0.4621345</td>\n",
       "<td>1.0835704</td>\n",
       "<td>0.2565140</td>\n",
       "<td>0.6014505</td>\n",
       "<td>0.0462170</td>\n",
       "<td>0.9752051</td>\n",
       "<td>-53.7865522</td>\n",
       "<td>8.3570365</td></tr>\n",
       "<tr><td></td>\n",
       "<td>16</td>\n",
       "<td>1.0</td>\n",
       "<td>0.0747701</td>\n",
       "<td>0.2479301</td>\n",
       "<td>1.0</td>\n",
       "<td>0.1376170</td>\n",
       "<td>0.5550636</td>\n",
       "<td>0.0247949</td>\n",
       "<td>1.0</td>\n",
       "<td>-75.2069866</td>\n",
       "<td>0.0</td></tr></table></div>"
      ],
      "text/plain": [
       "    group    cumulative_data_fraction    lower_threshold    lift      cumulative_lift    response_rate    cumulative_response_rate    capture_rate    cumulative_capture_rate    gain      cumulative_gain\n",
       "--  -------  --------------------------  -----------------  --------  -----------------  ---------------  --------------------------  --------------  -------------------------  --------  -----------------\n",
       "    1        0.0100185                   0.963224           1.8016    1.8016             1                1                           0.0180492       0.0180492                  80.1595   80.1595\n",
       "    2        0.0200116                   0.945822           1.8016    1.8016             1                1                           0.0180036       0.0360529                  80.1595   80.1595\n",
       "    3        0.0300048                   0.929623           1.8016    1.8016             1                1                           0.0180036       0.0540565                  80.1595   80.1595\n",
       "    4        0.0400233                   0.916017           1.76975   1.79362            0.982323         0.995575                    0.0177302       0.0717867                  76.9749   79.3624\n",
       "    5        0.0500164                   0.900329           1.75142   1.78519            0.972152         0.990895                    0.0175023       0.089289                   75.1424   78.5192\n",
       "    6        0.100008                    0.844097           1.68763   1.73642            0.936741         0.963825                    0.0843665       0.173655                   68.7628   73.6422\n",
       "    7        0.149999                    0.790249           1.61287   1.69524            0.895243         0.940968                    0.080629        0.254284                   61.2865   69.5244\n",
       "    8        0.200015                    0.742406           1.54279   1.65712            0.856348         0.919808                    0.077165        0.331449                   54.2793   65.7121\n",
       "    9        0.299997                    0.668768           1.41137   1.57522            0.783401         0.874346                    0.141112        0.472562                   41.1371   57.5218\n",
       "    10       0.400005                    0.608197           1.23464   1.49007            0.685302         0.827082                    0.123473        0.596035                   23.4637   49.0068\n",
       "    11       0.500013                    0.551066           1.07877   1.4078             0.598786         0.781421                    0.107885        0.70392                    7.87695   40.7804\n",
       "    12       0.599995                    0.494471           0.905356  1.32408            0.50253          0.734947                    0.0905196       0.794439                   -9.46437  32.4077\n",
       "    13       0.700003                    0.431414           0.75564   1.24287            0.419428         0.68987                     0.0755697       0.870009                   -24.436   24.2866\n",
       "    14       0.799985                    0.364734           0.589895  1.16126            0.327429         0.644572                    0.058979        0.928988                   -41.0105  16.1257\n",
       "    15       0.899992                    0.282282           0.462134  1.08357            0.256514         0.60145                     0.046217        0.975205                   -53.7866  8.35704\n",
       "    16       1                           0.0747701          0.24793   1                  0.137617         0.555064                    0.0247949       1                          -75.207   0"
      ]
     },
     "metadata": {},
     "output_type": "display_data"
    },
    {
     "name": "stdout",
     "output_type": "stream",
     "text": [
      "\n",
      "Cross-Validation Metrics Summary: \n"
     ]
    },
    {
     "data": {
      "text/html": [
       "<div style=\"overflow:auto\"><table style=\"width:50%\"><tr><td><b></b></td>\n",
       "<td><b>mean</b></td>\n",
       "<td><b>sd</b></td>\n",
       "<td><b>cv_1_valid</b></td>\n",
       "<td><b>cv_2_valid</b></td>\n",
       "<td><b>cv_3_valid</b></td>\n",
       "<td><b>cv_4_valid</b></td>\n",
       "<td><b>cv_5_valid</b></td></tr>\n",
       "<tr><td>accuracy</td>\n",
       "<td>0.7133099</td>\n",
       "<td>0.0065868</td>\n",
       "<td>0.715406</td>\n",
       "<td>0.7090817</td>\n",
       "<td>0.6975332</td>\n",
       "<td>0.7211891</td>\n",
       "<td>0.7233397</td></tr>\n",
       "<tr><td>auc</td>\n",
       "<td>0.8060378</td>\n",
       "<td>0.0038847</td>\n",
       "<td>0.8073686</td>\n",
       "<td>0.8060697</td>\n",
       "<td>0.7970652</td>\n",
       "<td>0.8142967</td>\n",
       "<td>0.8053887</td></tr>\n",
       "<tr><td>err</td>\n",
       "<td>0.2866901</td>\n",
       "<td>0.0065868</td>\n",
       "<td>0.2845940</td>\n",
       "<td>0.2909183</td>\n",
       "<td>0.3024668</td>\n",
       "<td>0.2788109</td>\n",
       "<td>0.2766603</td></tr>\n",
       "<tr><td>err_count</td>\n",
       "<td>2266.4</td>\n",
       "<td>52.07802</td>\n",
       "<td>2250.0</td>\n",
       "<td>2300.0</td>\n",
       "<td>2391.0</td>\n",
       "<td>2204.0</td>\n",
       "<td>2187.0</td></tr>\n",
       "<tr><td>f0point5</td>\n",
       "<td>0.7218404</td>\n",
       "<td>0.0051447</td>\n",
       "<td>0.7234936</td>\n",
       "<td>0.7199222</td>\n",
       "<td>0.709607</td>\n",
       "<td>0.7241845</td>\n",
       "<td>0.7319950</td></tr>\n",
       "<tr><td>f1</td>\n",
       "<td>0.7715131</td>\n",
       "<td>0.0025384</td>\n",
       "<td>0.7758964</td>\n",
       "<td>0.7733097</td>\n",
       "<td>0.7653812</td>\n",
       "<td>0.7729707</td>\n",
       "<td>0.7700074</td></tr>\n",
       "<tr><td>f2</td>\n",
       "<td>0.8286785</td>\n",
       "<td>0.0061656</td>\n",
       "<td>0.8364831</td>\n",
       "<td>0.8352495</td>\n",
       "<td>0.8306710</td>\n",
       "<td>0.8288050</td>\n",
       "<td>0.8121839</td></tr>\n",
       "<tr><td>lift_top_group</td>\n",
       "<td>1.8018559</td>\n",
       "<td>0.0153400</td>\n",
       "<td>1.7911192</td>\n",
       "<td>1.7782276</td>\n",
       "<td>1.7852304</td>\n",
       "<td>1.8345324</td>\n",
       "<td>1.8201704</td></tr>\n",
       "<tr><td>logloss</td>\n",
       "<td>0.5417724</td>\n",
       "<td>0.0020884</td>\n",
       "<td>0.5393959</td>\n",
       "<td>0.5398793</td>\n",
       "<td>0.5463629</td>\n",
       "<td>0.5390373</td>\n",
       "<td>0.5441863</td></tr>\n",
       "<tr><td>max_per_class_error</td>\n",
       "<td>0.4851239</td>\n",
       "<td>0.0285407</td>\n",
       "<td>0.4957045</td>\n",
       "<td>0.5135838</td>\n",
       "<td>0.5358067</td>\n",
       "<td>0.4580089</td>\n",
       "<td>0.4225155</td></tr>\n",
       "<tr><td>mcc</td>\n",
       "<td>0.4196728</td>\n",
       "<td>0.0149163</td>\n",
       "<td>0.4239134</td>\n",
       "<td>0.4078991</td>\n",
       "<td>0.3852395</td>\n",
       "<td>0.4416859</td>\n",
       "<td>0.4396259</td></tr>\n",
       "<tr><td>mean_per_class_accuracy</td>\n",
       "<td>0.6933626</td>\n",
       "<td>0.0098494</td>\n",
       "<td>0.6933575</td>\n",
       "<td>0.6843912</td>\n",
       "<td>0.6724760</td>\n",
       "<td>0.7063634</td>\n",
       "<td>0.7102251</td></tr>\n",
       "<tr><td>mean_per_class_error</td>\n",
       "<td>0.3066373</td>\n",
       "<td>0.0098494</td>\n",
       "<td>0.3066424</td>\n",
       "<td>0.3156088</td>\n",
       "<td>0.3275240</td>\n",
       "<td>0.2936366</td>\n",
       "<td>0.2897749</td></tr>\n",
       "<tr><td>mse</td>\n",
       "<td>0.1823586</td>\n",
       "<td>0.0010034</td>\n",
       "<td>0.1814061</td>\n",
       "<td>0.1815899</td>\n",
       "<td>0.1846126</td>\n",
       "<td>0.1807983</td>\n",
       "<td>0.1833860</td></tr>\n",
       "<tr><td>precision</td>\n",
       "<td>0.6921827</td>\n",
       "<td>0.0073062</td>\n",
       "<td>0.6923214</td>\n",
       "<td>0.6882456</td>\n",
       "<td>0.6767309</td>\n",
       "<td>0.6949435</td>\n",
       "<td>0.7086721</td></tr>\n",
       "<tr><td>r2</td>\n",
       "<td>0.2614681</td>\n",
       "<td>0.0046720</td>\n",
       "<td>0.2643708</td>\n",
       "<td>0.2621642</td>\n",
       "<td>0.2507051</td>\n",
       "<td>0.2708753</td>\n",
       "<td>0.2592253</td></tr>\n",
       "<tr><td>recall</td>\n",
       "<td>0.8718492</td>\n",
       "<td>0.0106640</td>\n",
       "<td>0.8824196</td>\n",
       "<td>0.8823662</td>\n",
       "<td>0.8807588</td>\n",
       "<td>0.8707356</td>\n",
       "<td>0.8429657</td></tr>\n",
       "<tr><td>rmse</td>\n",
       "<td>0.4270314</td>\n",
       "<td>0.0011737</td>\n",
       "<td>0.4259179</td>\n",
       "<td>0.4261337</td>\n",
       "<td>0.4296657</td>\n",
       "<td>0.4252038</td>\n",
       "<td>0.4282359</td></tr>\n",
       "<tr><td>specificity</td>\n",
       "<td>0.5148761</td>\n",
       "<td>0.0285407</td>\n",
       "<td>0.5042955</td>\n",
       "<td>0.4864162</td>\n",
       "<td>0.4641933</td>\n",
       "<td>0.5419911</td>\n",
       "<td>0.5774845</td></tr></table></div>"
      ],
      "text/plain": [
       "                         mean      sd          cv_1_valid    cv_2_valid    cv_3_valid    cv_4_valid    cv_5_valid\n",
       "-----------------------  --------  ----------  ------------  ------------  ------------  ------------  ------------\n",
       "accuracy                 0.71331   0.00658676  0.715406      0.709082      0.697533      0.721189      0.72334\n",
       "auc                      0.806038  0.00388473  0.807369      0.80607       0.797065      0.814297      0.805389\n",
       "err                      0.28669   0.00658676  0.284594      0.290918      0.302467      0.278811      0.27666\n",
       "err_count                2266.4    52.078      2250          2300          2391          2204          2187\n",
       "f0point5                 0.72184   0.00514471  0.723494      0.719922      0.709607      0.724185      0.731995\n",
       "f1                       0.771513  0.00253837  0.775896      0.77331       0.765381      0.772971      0.770007\n",
       "f2                       0.828678  0.00616562  0.836483      0.83525       0.830671      0.828805      0.812184\n",
       "lift_top_group           1.80186   0.01534     1.79112       1.77823       1.78523       1.83453       1.82017\n",
       "logloss                  0.541772  0.00208837  0.539396      0.539879      0.546363      0.539037      0.544186\n",
       "max_per_class_error      0.485124  0.0285407   0.495704      0.513584      0.535807      0.458009      0.422515\n",
       "mcc                      0.419673  0.0149163   0.423913      0.407899      0.38524       0.441686      0.439626\n",
       "mean_per_class_accuracy  0.693363  0.00984937  0.693357      0.684391      0.672476      0.706363      0.710225\n",
       "mean_per_class_error     0.306637  0.00984937  0.306642      0.315609      0.327524      0.293637      0.289775\n",
       "mse                      0.182359  0.00100343  0.181406      0.18159       0.184613      0.180798      0.183386\n",
       "precision                0.692183  0.00730617  0.692321      0.688246      0.676731      0.694944      0.708672\n",
       "r2                       0.261468  0.00467202  0.264371      0.262164      0.250705      0.270875      0.259225\n",
       "recall                   0.871849  0.010664    0.88242       0.882366      0.880759      0.870736      0.842966\n",
       "rmse                     0.427031  0.00117372  0.425918      0.426134      0.429666      0.425204      0.428236\n",
       "specificity              0.514876  0.0285407   0.504296      0.486416      0.464193      0.541991      0.577485"
      ]
     },
     "metadata": {},
     "output_type": "display_data"
    },
    {
     "name": "stdout",
     "output_type": "stream",
     "text": [
      "Scoring History: \n"
     ]
    },
    {
     "data": {
      "text/html": [
       "<div style=\"overflow:auto\"><table style=\"width:50%\"><tr><td><b></b></td>\n",
       "<td><b>timestamp</b></td>\n",
       "<td><b>duration</b></td>\n",
       "<td><b>number_of_trees</b></td>\n",
       "<td><b>training_rmse</b></td>\n",
       "<td><b>training_logloss</b></td>\n",
       "<td><b>training_auc</b></td>\n",
       "<td><b>training_lift</b></td>\n",
       "<td><b>training_classification_error</b></td></tr>\n",
       "<tr><td></td>\n",
       "<td>2018-07-02 04:27:05</td>\n",
       "<td> 6.607 sec</td>\n",
       "<td>0.0</td>\n",
       "<td>0.4969587</td>\n",
       "<td>0.6870709</td>\n",
       "<td>0.5</td>\n",
       "<td>1.0</td>\n",
       "<td>0.4449364</td></tr>\n",
       "<tr><td></td>\n",
       "<td>2018-07-02 04:27:05</td>\n",
       "<td> 6.632 sec</td>\n",
       "<td>1.0</td>\n",
       "<td>0.4898214</td>\n",
       "<td>0.6727576</td>\n",
       "<td>0.7134887</td>\n",
       "<td>1.8015953</td>\n",
       "<td>0.3881145</td></tr>\n",
       "<tr><td></td>\n",
       "<td>2018-07-02 04:27:05</td>\n",
       "<td> 6.652 sec</td>\n",
       "<td>2.0</td>\n",
       "<td>0.4841579</td>\n",
       "<td>0.6614461</td>\n",
       "<td>0.7316107</td>\n",
       "<td>1.8015953</td>\n",
       "<td>0.3565917</td></tr>\n",
       "<tr><td></td>\n",
       "<td>2018-07-02 04:27:05</td>\n",
       "<td> 6.672 sec</td>\n",
       "<td>3.0</td>\n",
       "<td>0.4786659</td>\n",
       "<td>0.6504677</td>\n",
       "<td>0.7403761</td>\n",
       "<td>1.8015953</td>\n",
       "<td>0.3571989</td></tr>\n",
       "<tr><td></td>\n",
       "<td>2018-07-02 04:27:06</td>\n",
       "<td> 6.710 sec</td>\n",
       "<td>4.0</td>\n",
       "<td>0.4743149</td>\n",
       "<td>0.6417239</td>\n",
       "<td>0.7446867</td>\n",
       "<td>1.8015953</td>\n",
       "<td>0.3604372</td></tr>\n",
       "<tr><td>---</td>\n",
       "<td>---</td>\n",
       "<td>---</td>\n",
       "<td>---</td>\n",
       "<td>---</td>\n",
       "<td>---</td>\n",
       "<td>---</td>\n",
       "<td>---</td>\n",
       "<td>---</td></tr>\n",
       "<tr><td></td>\n",
       "<td>2018-07-02 04:27:07</td>\n",
       "<td> 7.996 sec</td>\n",
       "<td>46.0</td>\n",
       "<td>0.4120044</td>\n",
       "<td>0.5140059</td>\n",
       "<td>0.8463681</td>\n",
       "<td>1.8015953</td>\n",
       "<td>0.2507400</td></tr>\n",
       "<tr><td></td>\n",
       "<td>2018-07-02 04:27:07</td>\n",
       "<td> 8.027 sec</td>\n",
       "<td>47.0</td>\n",
       "<td>0.4113368</td>\n",
       "<td>0.5126009</td>\n",
       "<td>0.8471042</td>\n",
       "<td>1.8015953</td>\n",
       "<td>0.2474511</td></tr>\n",
       "<tr><td></td>\n",
       "<td>2018-07-02 04:27:07</td>\n",
       "<td> 8.065 sec</td>\n",
       "<td>48.0</td>\n",
       "<td>0.4107162</td>\n",
       "<td>0.5113633</td>\n",
       "<td>0.8479587</td>\n",
       "<td>1.8015953</td>\n",
       "<td>0.2492221</td></tr>\n",
       "<tr><td></td>\n",
       "<td>2018-07-02 04:27:07</td>\n",
       "<td> 8.094 sec</td>\n",
       "<td>49.0</td>\n",
       "<td>0.4098778</td>\n",
       "<td>0.5096599</td>\n",
       "<td>0.8493092</td>\n",
       "<td>1.8015953</td>\n",
       "<td>0.2465150</td></tr>\n",
       "<tr><td></td>\n",
       "<td>2018-07-02 04:27:07</td>\n",
       "<td> 8.122 sec</td>\n",
       "<td>50.0</td>\n",
       "<td>0.4090922</td>\n",
       "<td>0.5081201</td>\n",
       "<td>0.8504734</td>\n",
       "<td>1.8015953</td>\n",
       "<td>0.2444152</td></tr></table></div>"
      ],
      "text/plain": [
       "     timestamp            duration    number_of_trees    training_rmse        training_logloss    training_auc        training_lift       training_classification_error\n",
       "---  -------------------  ----------  -----------------  -------------------  ------------------  ------------------  ------------------  -------------------------------\n",
       "     2018-07-02 04:27:05  6.607 sec   0.0                0.4969587477228131   0.6870708571939254  0.5                 1.0                 0.4449363726060667\n",
       "     2018-07-02 04:27:05  6.632 sec   1.0                0.4898214346911915   0.6727576335536022  0.7134886589855491  1.8015952597994531  0.38811445341159206\n",
       "     2018-07-02 04:27:05  6.652 sec   2.0                0.48415790470615     0.6614460643524964  0.7316107281529268  1.8015952597994531  0.35659169681483543\n",
       "     2018-07-02 04:27:05  6.672 sec   3.0                0.47866591384622387  0.6504677213651521  0.7403760723029291  1.8015952597994531  0.35719887671718065\n",
       "     2018-07-02 04:27:06  6.710 sec   4.0                0.47431488274929945  0.6417238832723783  0.7446866661943005  1.8015952597994531  0.3604371695296886\n",
       "---  ---                  ---         ---                ---                  ---                 ---                 ---                 ---\n",
       "     2018-07-02 04:27:07  7.996 sec   46.0               0.41200438457155353  0.5140059110149627  0.846368075387581   1.8015952597994531  0.2507400005059833\n",
       "     2018-07-02 04:27:07  8.027 sec   47.0               0.41133678517781375  0.5126009074539947  0.8471042423862948  1.8015952597994531  0.2474511093682799\n",
       "     2018-07-02 04:27:07  8.065 sec   48.0               0.41071615158328734  0.5113633068747518  0.8479587246919715  1.8015952597994531  0.24922205075012016\n",
       "     2018-07-02 04:27:07  8.094 sec   49.0               0.40987784625516716  0.509659907742258   0.849309238214043   1.8015952597994531  0.24651504035216434\n",
       "     2018-07-02 04:27:07  8.122 sec   50.0               0.4090921632264369   0.5081200815906951  0.8504733739633966  1.8015952597994531  0.24441520985655374"
      ]
     },
     "metadata": {},
     "output_type": "display_data"
    },
    {
     "name": "stdout",
     "output_type": "stream",
     "text": [
      "\n",
      "See the whole table with table.as_data_frame()\n",
      "Variable Importances: \n"
     ]
    },
    {
     "data": {
      "text/html": [
       "<div style=\"overflow:auto\"><table style=\"width:50%\"><tr><td><b>variable</b></td>\n",
       "<td><b>relative_importance</b></td>\n",
       "<td><b>scaled_importance</b></td>\n",
       "<td><b>percentage</b></td></tr>\n",
       "<tr><td>Origin</td>\n",
       "<td>3876.3937988</td>\n",
       "<td>1.0</td>\n",
       "<td>0.2336145</td></tr>\n",
       "<tr><td>TaxiOut</td>\n",
       "<td>2874.3134766</td>\n",
       "<td>0.7414916</td>\n",
       "<td>0.1732232</td></tr>\n",
       "<tr><td>Dest</td>\n",
       "<td>2840.7470703</td>\n",
       "<td>0.7328324</td>\n",
       "<td>0.1712003</td></tr>\n",
       "<tr><td>DepTime</td>\n",
       "<td>2190.9628906</td>\n",
       "<td>0.5652065</td>\n",
       "<td>0.1320404</td></tr>\n",
       "<tr><td>AirTime</td>\n",
       "<td>1183.2290039</td>\n",
       "<td>0.3052396</td>\n",
       "<td>0.0713084</td></tr>\n",
       "<tr><td>CRSDepTime</td>\n",
       "<td>752.0204468</td>\n",
       "<td>0.1940000</td>\n",
       "<td>0.0453212</td></tr>\n",
       "<tr><td>Year</td>\n",
       "<td>663.8605957</td>\n",
       "<td>0.1712573</td>\n",
       "<td>0.0400082</td></tr>\n",
       "<tr><td>DayofMonth</td>\n",
       "<td>571.0549316</td>\n",
       "<td>0.1473160</td>\n",
       "<td>0.0344152</td></tr>\n",
       "<tr><td>CRSElapsedTime</td>\n",
       "<td>493.3397217</td>\n",
       "<td>0.1272677</td>\n",
       "<td>0.0297316</td></tr>\n",
       "<tr><td>Month</td>\n",
       "<td>437.3418884</td>\n",
       "<td>0.1128218</td>\n",
       "<td>0.0263568</td></tr>\n",
       "<tr><td>TaxiIn</td>\n",
       "<td>321.3422241</td>\n",
       "<td>0.0828972</td>\n",
       "<td>0.0193660</td></tr>\n",
       "<tr><td>UniqueCarrier</td>\n",
       "<td>155.6381836</td>\n",
       "<td>0.0401503</td>\n",
       "<td>0.0093797</td></tr>\n",
       "<tr><td>DayOfWeek</td>\n",
       "<td>69.5879669</td>\n",
       "<td>0.0179517</td>\n",
       "<td>0.0041938</td></tr>\n",
       "<tr><td>FlightNum</td>\n",
       "<td>68.0085754</td>\n",
       "<td>0.0175443</td>\n",
       "<td>0.0040986</td></tr>\n",
       "<tr><td>CRSArrTime</td>\n",
       "<td>47.5483284</td>\n",
       "<td>0.0122661</td>\n",
       "<td>0.0028655</td></tr>\n",
       "<tr><td>Diverted</td>\n",
       "<td>23.0770836</td>\n",
       "<td>0.0059532</td>\n",
       "<td>0.0013908</td></tr>\n",
       "<tr><td>Cancelled</td>\n",
       "<td>14.8217001</td>\n",
       "<td>0.0038236</td>\n",
       "<td>0.0008932</td></tr>\n",
       "<tr><td>Distance</td>\n",
       "<td>8.1686010</td>\n",
       "<td>0.0021073</td>\n",
       "<td>0.0004923</td></tr>\n",
       "<tr><td>CancellationCode</td>\n",
       "<td>1.6664701</td>\n",
       "<td>0.0004299</td>\n",
       "<td>0.0001004</td></tr></table></div>"
      ],
      "text/plain": [
       "variable          relative_importance    scaled_importance    percentage\n",
       "----------------  ---------------------  -------------------  ------------\n",
       "Origin            3876.39                1                    0.233614\n",
       "TaxiOut           2874.31                0.741492             0.173223\n",
       "Dest              2840.75                0.732832             0.1712\n",
       "DepTime           2190.96                0.565206             0.13204\n",
       "AirTime           1183.23                0.30524              0.0713084\n",
       "CRSDepTime        752.02                 0.194                0.0453212\n",
       "Year              663.861                0.171257             0.0400082\n",
       "DayofMonth        571.055                0.147316             0.0344152\n",
       "CRSElapsedTime    493.34                 0.127268             0.0297316\n",
       "Month             437.342                0.112822             0.0263568\n",
       "TaxiIn            321.342                0.0828972            0.019366\n",
       "UniqueCarrier     155.638                0.0401503            0.00937968\n",
       "DayOfWeek         69.588                 0.0179517            0.00419378\n",
       "FlightNum         68.0086                0.0175443            0.0040986\n",
       "CRSArrTime        47.5483                0.0122661            0.00286554\n",
       "Diverted          23.0771                0.00595324           0.00139076\n",
       "Cancelled         14.8217                0.00382358           0.000893244\n",
       "Distance          8.1686                 0.00210727           0.000492288\n",
       "CancellationCode  1.66647                0.000429902          0.000100431"
      ]
     },
     "metadata": {},
     "output_type": "display_data"
    },
    {
     "data": {
      "text/plain": []
     },
     "execution_count": 54,
     "metadata": {},
     "output_type": "execute_result"
    }
   ],
   "source": [
    "h2o.load_model('/tmp/models/gbm_def')"
   ]
  },
  {
   "cell_type": "code",
   "execution_count": 55,
   "metadata": {},
   "outputs": [
    {
     "data": {
      "text/plain": [
       "'/private/tmp/models/SE_glm_gbm_rf.zip'"
      ]
     },
     "execution_count": 55,
     "metadata": {},
     "output_type": "execute_result"
    }
   ],
   "source": [
    "m_SE.save_mojo(\"/tmp/models/\")"
   ]
  },
  {
   "cell_type": "code",
   "execution_count": 56,
   "metadata": {},
   "outputs": [
    {
     "data": {
      "text/plain": [
       "'/private/tmp/models/SE_glm_gbm_rf'"
      ]
     },
     "execution_count": 56,
     "metadata": {},
     "output_type": "execute_result"
    }
   ],
   "source": [
    "h2o.save_model(m_SE,'/tmp/models/')"
   ]
  },
  {
   "cell_type": "code",
   "execution_count": null,
   "metadata": {},
   "outputs": [],
   "source": []
  }
 ],
 "metadata": {
  "celltoolbar": "Raw Cell Format",
  "kernelspec": {
   "display_name": "Python 3",
   "language": "python",
   "name": "python3"
  },
  "language_info": {
   "codemirror_mode": {
    "name": "ipython",
    "version": 3
   },
   "file_extension": ".py",
   "mimetype": "text/x-python",
   "name": "python",
   "nbconvert_exporter": "python",
   "pygments_lexer": "ipython3",
   "version": "3.6.5"
  }
 },
 "nbformat": 4,
 "nbformat_minor": 2
}
