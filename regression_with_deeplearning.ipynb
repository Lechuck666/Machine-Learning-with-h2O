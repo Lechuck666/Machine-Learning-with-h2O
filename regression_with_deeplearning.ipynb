{
 "cells": [
  {
   "cell_type": "code",
   "execution_count": 6,
   "metadata": {},
   "outputs": [],
   "source": [
    "import h2o"
   ]
  },
  {
   "cell_type": "code",
   "execution_count": 7,
   "metadata": {},
   "outputs": [],
   "source": [
    "import matplotlib.pyplot as plt\n",
    "%matplotlib inline"
   ]
  },
  {
   "cell_type": "code",
   "execution_count": 8,
   "metadata": {},
   "outputs": [
    {
     "name": "stdout",
     "output_type": "stream",
     "text": [
      "Checking whether there is an H2O instance running at http://localhost:54321. connected.\n"
     ]
    },
    {
     "data": {
      "text/html": [
       "<div style=\"overflow:auto\"><table style=\"width:50%\"><tr><td>H2O cluster uptime:</td>\n",
       "<td>3 hours 32 mins</td></tr>\n",
       "<tr><td>H2O cluster timezone:</td>\n",
       "<td>Asia/Kolkata</td></tr>\n",
       "<tr><td>H2O data parsing timezone:</td>\n",
       "<td>UTC</td></tr>\n",
       "<tr><td>H2O cluster version:</td>\n",
       "<td>3.20.0.2</td></tr>\n",
       "<tr><td>H2O cluster version age:</td>\n",
       "<td>13 days </td></tr>\n",
       "<tr><td>H2O cluster name:</td>\n",
       "<td>H2O_started_from_R_raj_cjn618</td></tr>\n",
       "<tr><td>H2O cluster total nodes:</td>\n",
       "<td>1</td></tr>\n",
       "<tr><td>H2O cluster free memory:</td>\n",
       "<td>2.507 Gb</td></tr>\n",
       "<tr><td>H2O cluster total cores:</td>\n",
       "<td>8</td></tr>\n",
       "<tr><td>H2O cluster allowed cores:</td>\n",
       "<td>8</td></tr>\n",
       "<tr><td>H2O cluster status:</td>\n",
       "<td>locked, healthy</td></tr>\n",
       "<tr><td>H2O connection url:</td>\n",
       "<td>http://localhost:54321</td></tr>\n",
       "<tr><td>H2O connection proxy:</td>\n",
       "<td>None</td></tr>\n",
       "<tr><td>H2O internal security:</td>\n",
       "<td>False</td></tr>\n",
       "<tr><td>H2O API Extensions:</td>\n",
       "<td>XGBoost, Algos, AutoML, Core V3, Core V4</td></tr>\n",
       "<tr><td>Python version:</td>\n",
       "<td>3.6.5 final</td></tr></table></div>"
      ],
      "text/plain": [
       "--------------------------  ----------------------------------------\n",
       "H2O cluster uptime:         3 hours 32 mins\n",
       "H2O cluster timezone:       Asia/Kolkata\n",
       "H2O data parsing timezone:  UTC\n",
       "H2O cluster version:        3.20.0.2\n",
       "H2O cluster version age:    13 days\n",
       "H2O cluster name:           H2O_started_from_R_raj_cjn618\n",
       "H2O cluster total nodes:    1\n",
       "H2O cluster free memory:    2.507 Gb\n",
       "H2O cluster total cores:    8\n",
       "H2O cluster allowed cores:  8\n",
       "H2O cluster status:         locked, healthy\n",
       "H2O connection url:         http://localhost:54321\n",
       "H2O connection proxy:\n",
       "H2O internal security:      False\n",
       "H2O API Extensions:         XGBoost, Algos, AutoML, Core V3, Core V4\n",
       "Python version:             3.6.5 final\n",
       "--------------------------  ----------------------------------------"
      ]
     },
     "metadata": {},
     "output_type": "display_data"
    }
   ],
   "source": [
    "h2o.init()"
   ]
  },
  {
   "cell_type": "code",
   "execution_count": 9,
   "metadata": {},
   "outputs": [
    {
     "name": "stdout",
     "output_type": "stream",
     "text": [
      "Parse progress: |█████████████████████████████████████████████████████████| 100%\n"
     ]
    }
   ],
   "source": [
    "url =  \"http://h2o-public-test-data.s3.amazonaws.com/smalldata/airlines/allyears2k_headers.zip\"\n",
    "data=h2o.import_file(url)"
   ]
  },
  {
   "cell_type": "code",
   "execution_count": 10,
   "metadata": {},
   "outputs": [],
   "source": [
    "train,valid,test=data.split_frame([0.8,0.1],seed=69)"
   ]
  },
  {
   "cell_type": "code",
   "execution_count": 11,
   "metadata": {},
   "outputs": [
    {
     "name": "stdout",
     "output_type": "stream",
     "text": [
      "35255/4272/4451\n"
     ]
    }
   ],
   "source": [
    "print(\"%d/%d/%d\" %(train.nrows,valid.nrows,test.nrows))\n"
   ]
  },
  {
   "cell_type": "code",
   "execution_count": 12,
   "metadata": {},
   "outputs": [],
   "source": [
    "y ='ArrDelay' # binomial Classification\n",
    "ignoreFields=['IsArrDelayed','ActualElapsedTime','ArrTime','TailNum']\n",
    "xWithDep=[i for i in train.names  if i not in ignoreFields]"
   ]
  },
  {
   "cell_type": "code",
   "execution_count": 13,
   "metadata": {},
   "outputs": [],
   "source": [
    "from h2o.estimators.deeplearning import H2ODeepLearningEstimator"
   ]
  },
  {
   "cell_type": "code",
   "execution_count": 16,
   "metadata": {},
   "outputs": [
    {
     "name": "stdout",
     "output_type": "stream",
     "text": [
      "deeplearning Model Build progress: |██████████████████████████████████████| 100%\n",
      "CPU times: user 325 ms, sys: 57 ms, total: 382 ms\n",
      "Wall time: 28.8 s\n"
     ]
    }
   ],
   "source": [
    "m_DLR_def= H2ODeepLearningEstimator(variable_importances=True) \n",
    "%time m_DLR_def.train(xWithDep,y,train,validation_frame=valid)"
   ]
  },
  {
   "cell_type": "code",
   "execution_count": 17,
   "metadata": {},
   "outputs": [
    {
     "name": "stdout",
     "output_type": "stream",
     "text": [
      "\n",
      "ModelMetricsRegression: deeplearning\n",
      "** Reported on test data. **\n",
      "\n",
      "MSE: 54.46115861360238\n",
      "RMSE: 7.379780390608001\n",
      "MAE: 3.7619958293803664\n",
      "RMSLE: NaN\n",
      "Mean Residual Deviance: 54.46115861360238\n"
     ]
    },
    {
     "data": {
      "text/plain": []
     },
     "execution_count": 17,
     "metadata": {},
     "output_type": "execute_result"
    }
   ],
   "source": [
    "m_DLR_def.model_performance(valid)"
   ]
  },
  {
   "cell_type": "markdown",
   "metadata": {},
   "source": [
    "RMSE and MAE might be useful since they are in minutes. So on average it guessed it 3.8 minutes long. "
   ]
  },
  {
   "cell_type": "code",
   "execution_count": 19,
   "metadata": {},
   "outputs": [
    {
     "data": {
      "image/png": "[encoded data removed]",
      "text/plain": [
       "<Figure size 1008x720 with 1 Axes>"
      ]
     },
     "metadata": {},
     "output_type": "display_data"
    }
   ],
   "source": [
    "m_DLR_def.varimp_plot(30) # default gives you first 10"
   ]
  },
  {
   "cell_type": "code",
   "execution_count": 24,
   "metadata": {},
   "outputs": [
    {
     "name": "stdout",
     "output_type": "stream",
     "text": [
      "deeplearning Model Build progress: |██████████████████████████████████████| 100%\n",
      "CPU times: user 708 ms, sys: 114 ms, total: 821 ms\n",
      "Wall time: 2min 30s\n"
     ]
    }
   ],
   "source": [
    "m_DLR_200_epochs = H2ODeepLearningEstimator(\n",
    "variable_importances=True,\n",
    "epochs=200,\n",
    "stopping_rounds=5,\n",
    "stopping_tolerance=0.0,\n",
    "stopping_metric=\"deviance\"    \n",
    ")\n",
    "%time m_DLR_200_epochs.train(xWithDep,y,train,validation_frame=valid)"
   ]
  },
  {
   "cell_type": "code",
   "execution_count": 25,
   "metadata": {},
   "outputs": [
    {
     "name": "stdout",
     "output_type": "stream",
     "text": [
      "\n",
      "ModelMetricsRegression: deeplearning\n",
      "** Reported on test data. **\n",
      "\n",
      "MSE: 45.769990802898214\n",
      "RMSE: 6.765352230512334\n",
      "MAE: 3.454343126352751\n",
      "RMSLE: NaN\n",
      "Mean Residual Deviance: 45.769990802898214\n"
     ]
    },
    {
     "data": {
      "text/plain": []
     },
     "execution_count": 25,
     "metadata": {},
     "output_type": "execute_result"
    }
   ],
   "source": [
    "m_DLR_200_epochs.model_performance(valid)"
   ]
  },
  {
   "cell_type": "code",
   "execution_count": 26,
   "metadata": {},
   "outputs": [
    {
     "data": {
      "image/png": "[encoded data removed]",
      "text/plain": [
       "<Figure size 432x288 with 1 Axes>"
      ]
     },
     "metadata": {},
     "output_type": "display_data"
    }
   ],
   "source": [
    "m_DLR_200_epochs.plot()"
   ]
  },
  {
   "cell_type": "code",
   "execution_count": 27,
   "metadata": {},
   "outputs": [
    {
     "data": {
      "text/html": [
       "<div>\n",
       "<style scoped>\n",
       "    .dataframe tbody tr th:only-of-type {\n",
       "        vertical-align: middle;\n",
       "    }\n",
       "\n",
       "    .dataframe tbody tr th {\n",
       "        vertical-align: top;\n",
       "    }\n",
       "\n",
       "    .dataframe thead th {\n",
       "        text-align: right;\n",
       "    }\n",
       "</style>\n",
       "<table border=\"1\" class=\"dataframe\">\n",
       "  <thead>\n",
       "    <tr style=\"text-align: right;\">\n",
       "      <th></th>\n",
       "      <th></th>\n",
       "      <th>timestamp</th>\n",
       "      <th>duration</th>\n",
       "      <th>training_speed</th>\n",
       "      <th>epochs</th>\n",
       "      <th>iterations</th>\n",
       "      <th>samples</th>\n",
       "      <th>training_rmse</th>\n",
       "      <th>training_deviance</th>\n",
       "      <th>training_mae</th>\n",
       "      <th>training_r2</th>\n",
       "      <th>validation_rmse</th>\n",
       "      <th>validation_deviance</th>\n",
       "      <th>validation_mae</th>\n",
       "      <th>validation_r2</th>\n",
       "    </tr>\n",
       "  </thead>\n",
       "  <tbody>\n",
       "    <tr>\n",
       "      <th>0</th>\n",
       "      <td></td>\n",
       "      <td>2018-06-28 19:35:28</td>\n",
       "      <td>0.000 sec</td>\n",
       "      <td>None</td>\n",
       "      <td>0.000000</td>\n",
       "      <td>0</td>\n",
       "      <td>0.0</td>\n",
       "      <td>NaN</td>\n",
       "      <td>NaN</td>\n",
       "      <td>NaN</td>\n",
       "      <td>NaN</td>\n",
       "      <td>NaN</td>\n",
       "      <td>NaN</td>\n",
       "      <td>NaN</td>\n",
       "      <td>NaN</td>\n",
       "    </tr>\n",
       "    <tr>\n",
       "      <th>1</th>\n",
       "      <td></td>\n",
       "      <td>2018-06-28 19:35:38</td>\n",
       "      <td>9.723 sec</td>\n",
       "      <td>10757 obs/sec</td>\n",
       "      <td>2.758162</td>\n",
       "      <td>1</td>\n",
       "      <td>97239.0</td>\n",
       "      <td>8.767238</td>\n",
       "      <td>76.864458</td>\n",
       "      <td>5.220134</td>\n",
       "      <td>0.912705</td>\n",
       "      <td>9.016083</td>\n",
       "      <td>81.289759</td>\n",
       "      <td>5.419234</td>\n",
       "      <td>0.905380</td>\n",
       "    </tr>\n",
       "    <tr>\n",
       "      <th>2</th>\n",
       "      <td></td>\n",
       "      <td>2018-06-28 19:35:45</td>\n",
       "      <td>16.759 sec</td>\n",
       "      <td>12590 obs/sec</td>\n",
       "      <td>5.515898</td>\n",
       "      <td>2</td>\n",
       "      <td>194463.0</td>\n",
       "      <td>7.191009</td>\n",
       "      <td>51.710609</td>\n",
       "      <td>4.175158</td>\n",
       "      <td>0.941272</td>\n",
       "      <td>7.236962</td>\n",
       "      <td>52.373625</td>\n",
       "      <td>4.251451</td>\n",
       "      <td>0.939038</td>\n",
       "    </tr>\n",
       "    <tr>\n",
       "      <th>3</th>\n",
       "      <td></td>\n",
       "      <td>2018-06-28 19:35:51</td>\n",
       "      <td>23.153 sec</td>\n",
       "      <td>13749 obs/sec</td>\n",
       "      <td>8.272075</td>\n",
       "      <td>3</td>\n",
       "      <td>291632.0</td>\n",
       "      <td>7.262908</td>\n",
       "      <td>52.749835</td>\n",
       "      <td>3.897607</td>\n",
       "      <td>0.940092</td>\n",
       "      <td>7.397920</td>\n",
       "      <td>54.729215</td>\n",
       "      <td>4.043285</td>\n",
       "      <td>0.936296</td>\n",
       "    </tr>\n",
       "    <tr>\n",
       "      <th>4</th>\n",
       "      <td></td>\n",
       "      <td>2018-06-28 19:36:02</td>\n",
       "      <td>34.650 sec</td>\n",
       "      <td>15163 obs/sec</td>\n",
       "      <td>13.793306</td>\n",
       "      <td>5</td>\n",
       "      <td>486283.0</td>\n",
       "      <td>6.797180</td>\n",
       "      <td>46.201651</td>\n",
       "      <td>3.453130</td>\n",
       "      <td>0.947529</td>\n",
       "      <td>7.148881</td>\n",
       "      <td>51.106500</td>\n",
       "      <td>3.663381</td>\n",
       "      <td>0.940513</td>\n",
       "    </tr>\n",
       "    <tr>\n",
       "      <th>5</th>\n",
       "      <td></td>\n",
       "      <td>2018-06-28 19:36:13</td>\n",
       "      <td>45.597 sec</td>\n",
       "      <td>16070 obs/sec</td>\n",
       "      <td>19.315048</td>\n",
       "      <td>7</td>\n",
       "      <td>680952.0</td>\n",
       "      <td>6.702638</td>\n",
       "      <td>44.925351</td>\n",
       "      <td>3.555300</td>\n",
       "      <td>0.948978</td>\n",
       "      <td>7.175045</td>\n",
       "      <td>51.481272</td>\n",
       "      <td>3.869483</td>\n",
       "      <td>0.940076</td>\n",
       "    </tr>\n",
       "    <tr>\n",
       "      <th>6</th>\n",
       "      <td></td>\n",
       "      <td>2018-06-28 19:36:24</td>\n",
       "      <td>56.067 sec</td>\n",
       "      <td>16771 obs/sec</td>\n",
       "      <td>24.836846</td>\n",
       "      <td>9</td>\n",
       "      <td>875623.0</td>\n",
       "      <td>6.465497</td>\n",
       "      <td>41.802656</td>\n",
       "      <td>3.682122</td>\n",
       "      <td>0.952525</td>\n",
       "      <td>7.052274</td>\n",
       "      <td>49.734570</td>\n",
       "      <td>4.012773</td>\n",
       "      <td>0.942110</td>\n",
       "    </tr>\n",
       "    <tr>\n",
       "      <th>7</th>\n",
       "      <td></td>\n",
       "      <td>2018-06-28 19:36:34</td>\n",
       "      <td>1 min  6.552 sec</td>\n",
       "      <td>17245 obs/sec</td>\n",
       "      <td>30.357510</td>\n",
       "      <td>11</td>\n",
       "      <td>1070254.0</td>\n",
       "      <td>6.185197</td>\n",
       "      <td>38.256659</td>\n",
       "      <td>2.873573</td>\n",
       "      <td>0.956552</td>\n",
       "      <td>6.786331</td>\n",
       "      <td>46.054282</td>\n",
       "      <td>3.227062</td>\n",
       "      <td>0.946393</td>\n",
       "    </tr>\n",
       "    <tr>\n",
       "      <th>8</th>\n",
       "      <td></td>\n",
       "      <td>2018-06-28 19:36:44</td>\n",
       "      <td>1 min 16.701 sec</td>\n",
       "      <td>17682 obs/sec</td>\n",
       "      <td>35.880499</td>\n",
       "      <td>13</td>\n",
       "      <td>1264967.0</td>\n",
       "      <td>5.950721</td>\n",
       "      <td>35.411083</td>\n",
       "      <td>3.015904</td>\n",
       "      <td>0.959784</td>\n",
       "      <td>6.765352</td>\n",
       "      <td>45.769991</td>\n",
       "      <td>3.454343</td>\n",
       "      <td>0.946724</td>\n",
       "    </tr>\n",
       "    <tr>\n",
       "      <th>9</th>\n",
       "      <td></td>\n",
       "      <td>2018-06-28 19:36:55</td>\n",
       "      <td>1 min 26.735 sec</td>\n",
       "      <td>18032 obs/sec</td>\n",
       "      <td>41.402610</td>\n",
       "      <td>15</td>\n",
       "      <td>1459649.0</td>\n",
       "      <td>6.036683</td>\n",
       "      <td>36.441536</td>\n",
       "      <td>3.680872</td>\n",
       "      <td>0.958613</td>\n",
       "      <td>6.947019</td>\n",
       "      <td>48.261073</td>\n",
       "      <td>4.190271</td>\n",
       "      <td>0.943825</td>\n",
       "    </tr>\n",
       "    <tr>\n",
       "      <th>10</th>\n",
       "      <td></td>\n",
       "      <td>2018-06-28 19:37:04</td>\n",
       "      <td>1 min 36.616 sec</td>\n",
       "      <td>18356 obs/sec</td>\n",
       "      <td>46.921770</td>\n",
       "      <td>17</td>\n",
       "      <td>1654227.0</td>\n",
       "      <td>5.659254</td>\n",
       "      <td>32.027160</td>\n",
       "      <td>2.749266</td>\n",
       "      <td>0.963627</td>\n",
       "      <td>6.784085</td>\n",
       "      <td>46.023803</td>\n",
       "      <td>3.301244</td>\n",
       "      <td>0.946429</td>\n",
       "    </tr>\n",
       "    <tr>\n",
       "      <th>11</th>\n",
       "      <td></td>\n",
       "      <td>2018-06-28 19:37:14</td>\n",
       "      <td>1 min 45.986 sec</td>\n",
       "      <td>18700 obs/sec</td>\n",
       "      <td>52.439370</td>\n",
       "      <td>19</td>\n",
       "      <td>1848750.0</td>\n",
       "      <td>5.417891</td>\n",
       "      <td>29.353542</td>\n",
       "      <td>2.656492</td>\n",
       "      <td>0.966663</td>\n",
       "      <td>6.783483</td>\n",
       "      <td>46.015639</td>\n",
       "      <td>3.337634</td>\n",
       "      <td>0.946438</td>\n",
       "    </tr>\n",
       "    <tr>\n",
       "      <th>12</th>\n",
       "      <td></td>\n",
       "      <td>2018-06-28 19:37:23</td>\n",
       "      <td>1 min 55.380 sec</td>\n",
       "      <td>18986 obs/sec</td>\n",
       "      <td>57.957141</td>\n",
       "      <td>21</td>\n",
       "      <td>2043279.0</td>\n",
       "      <td>5.208672</td>\n",
       "      <td>27.130263</td>\n",
       "      <td>2.586873</td>\n",
       "      <td>0.969188</td>\n",
       "      <td>6.905666</td>\n",
       "      <td>47.688221</td>\n",
       "      <td>3.356008</td>\n",
       "      <td>0.944492</td>\n",
       "    </tr>\n",
       "    <tr>\n",
       "      <th>13</th>\n",
       "      <td></td>\n",
       "      <td>2018-06-28 19:37:32</td>\n",
       "      <td>2 min  4.587 sec</td>\n",
       "      <td>19258 obs/sec</td>\n",
       "      <td>63.467281</td>\n",
       "      <td>23</td>\n",
       "      <td>2237539.0</td>\n",
       "      <td>5.298654</td>\n",
       "      <td>28.075729</td>\n",
       "      <td>2.521326</td>\n",
       "      <td>0.968114</td>\n",
       "      <td>7.117859</td>\n",
       "      <td>50.663913</td>\n",
       "      <td>3.345164</td>\n",
       "      <td>0.941028</td>\n",
       "    </tr>\n",
       "    <tr>\n",
       "      <th>14</th>\n",
       "      <td></td>\n",
       "      <td>2018-06-28 19:37:39</td>\n",
       "      <td>2 min 11.087 sec</td>\n",
       "      <td>19129 obs/sec</td>\n",
       "      <td>66.223685</td>\n",
       "      <td>24</td>\n",
       "      <td>2334716.0</td>\n",
       "      <td>5.133234</td>\n",
       "      <td>26.350091</td>\n",
       "      <td>2.730722</td>\n",
       "      <td>0.970074</td>\n",
       "      <td>6.952340</td>\n",
       "      <td>48.335027</td>\n",
       "      <td>3.553115</td>\n",
       "      <td>0.943739</td>\n",
       "    </tr>\n",
       "    <tr>\n",
       "      <th>15</th>\n",
       "      <td></td>\n",
       "      <td>2018-06-28 19:37:48</td>\n",
       "      <td>2 min 20.229 sec</td>\n",
       "      <td>19372 obs/sec</td>\n",
       "      <td>71.744462</td>\n",
       "      <td>26</td>\n",
       "      <td>2529351.0</td>\n",
       "      <td>4.902740</td>\n",
       "      <td>24.036864</td>\n",
       "      <td>2.835304</td>\n",
       "      <td>0.972701</td>\n",
       "      <td>7.137940</td>\n",
       "      <td>50.950183</td>\n",
       "      <td>3.857342</td>\n",
       "      <td>0.940695</td>\n",
       "    </tr>\n",
       "    <tr>\n",
       "      <th>16</th>\n",
       "      <td></td>\n",
       "      <td>2018-06-28 19:37:57</td>\n",
       "      <td>2 min 29.538 sec</td>\n",
       "      <td>19563 obs/sec</td>\n",
       "      <td>77.260984</td>\n",
       "      <td>28</td>\n",
       "      <td>2723836.0</td>\n",
       "      <td>4.840441</td>\n",
       "      <td>23.429873</td>\n",
       "      <td>2.664937</td>\n",
       "      <td>0.973391</td>\n",
       "      <td>7.268158</td>\n",
       "      <td>52.826114</td>\n",
       "      <td>3.696819</td>\n",
       "      <td>0.938511</td>\n",
       "    </tr>\n",
       "    <tr>\n",
       "      <th>17</th>\n",
       "      <td></td>\n",
       "      <td>2018-06-28 19:37:58</td>\n",
       "      <td>2 min 30.200 sec</td>\n",
       "      <td>19562 obs/sec</td>\n",
       "      <td>77.260984</td>\n",
       "      <td>28</td>\n",
       "      <td>2723836.0</td>\n",
       "      <td>5.950721</td>\n",
       "      <td>35.411083</td>\n",
       "      <td>3.015904</td>\n",
       "      <td>0.959784</td>\n",
       "      <td>6.765352</td>\n",
       "      <td>45.769991</td>\n",
       "      <td>3.454343</td>\n",
       "      <td>0.946724</td>\n",
       "    </tr>\n",
       "  </tbody>\n",
       "</table>\n",
       "</div>"
      ],
      "text/plain": [
       "                timestamp           duration training_speed     epochs  \\\n",
       "0     2018-06-28 19:35:28          0.000 sec           None   0.000000   \n",
       "1     2018-06-28 19:35:38          9.723 sec  10757 obs/sec   2.758162   \n",
       "2     2018-06-28 19:35:45         16.759 sec  12590 obs/sec   5.515898   \n",
       "3     2018-06-28 19:35:51         23.153 sec  13749 obs/sec   8.272075   \n",
       "4     2018-06-28 19:36:02         34.650 sec  15163 obs/sec  13.793306   \n",
       "5     2018-06-28 19:36:13         45.597 sec  16070 obs/sec  19.315048   \n",
       "6     2018-06-28 19:36:24         56.067 sec  16771 obs/sec  24.836846   \n",
       "7     2018-06-28 19:36:34   1 min  6.552 sec  17245 obs/sec  30.357510   \n",
       "8     2018-06-28 19:36:44   1 min 16.701 sec  17682 obs/sec  35.880499   \n",
       "9     2018-06-28 19:36:55   1 min 26.735 sec  18032 obs/sec  41.402610   \n",
       "10    2018-06-28 19:37:04   1 min 36.616 sec  18356 obs/sec  46.921770   \n",
       "11    2018-06-28 19:37:14   1 min 45.986 sec  18700 obs/sec  52.439370   \n",
       "12    2018-06-28 19:37:23   1 min 55.380 sec  18986 obs/sec  57.957141   \n",
       "13    2018-06-28 19:37:32   2 min  4.587 sec  19258 obs/sec  63.467281   \n",
       "14    2018-06-28 19:37:39   2 min 11.087 sec  19129 obs/sec  66.223685   \n",
       "15    2018-06-28 19:37:48   2 min 20.229 sec  19372 obs/sec  71.744462   \n",
       "16    2018-06-28 19:37:57   2 min 29.538 sec  19563 obs/sec  77.260984   \n",
       "17    2018-06-28 19:37:58   2 min 30.200 sec  19562 obs/sec  77.260984   \n",
       "\n",
       "    iterations    samples  training_rmse  training_deviance  training_mae  \\\n",
       "0            0        0.0            NaN                NaN           NaN   \n",
       "1            1    97239.0       8.767238          76.864458      5.220134   \n",
       "2            2   194463.0       7.191009          51.710609      4.175158   \n",
       "3            3   291632.0       7.262908          52.749835      3.897607   \n",
       "4            5   486283.0       6.797180          46.201651      3.453130   \n",
       "5            7   680952.0       6.702638          44.925351      3.555300   \n",
       "6            9   875623.0       6.465497          41.802656      3.682122   \n",
       "7           11  1070254.0       6.185197          38.256659      2.873573   \n",
       "8           13  1264967.0       5.950721          35.411083      3.015904   \n",
       "9           15  1459649.0       6.036683          36.441536      3.680872   \n",
       "10          17  1654227.0       5.659254          32.027160      2.749266   \n",
       "11          19  1848750.0       5.417891          29.353542      2.656492   \n",
       "12          21  2043279.0       5.208672          27.130263      2.586873   \n",
       "13          23  2237539.0       5.298654          28.075729      2.521326   \n",
       "14          24  2334716.0       5.133234          26.350091      2.730722   \n",
       "15          26  2529351.0       4.902740          24.036864      2.835304   \n",
       "16          28  2723836.0       4.840441          23.429873      2.664937   \n",
       "17          28  2723836.0       5.950721          35.411083      3.015904   \n",
       "\n",
       "    training_r2  validation_rmse  validation_deviance  validation_mae  \\\n",
       "0           NaN              NaN                  NaN             NaN   \n",
       "1      0.912705         9.016083            81.289759        5.419234   \n",
       "2      0.941272         7.236962            52.373625        4.251451   \n",
       "3      0.940092         7.397920            54.729215        4.043285   \n",
       "4      0.947529         7.148881            51.106500        3.663381   \n",
       "5      0.948978         7.175045            51.481272        3.869483   \n",
       "6      0.952525         7.052274            49.734570        4.012773   \n",
       "7      0.956552         6.786331            46.054282        3.227062   \n",
       "8      0.959784         6.765352            45.769991        3.454343   \n",
       "9      0.958613         6.947019            48.261073        4.190271   \n",
       "10     0.963627         6.784085            46.023803        3.301244   \n",
       "11     0.966663         6.783483            46.015639        3.337634   \n",
       "12     0.969188         6.905666            47.688221        3.356008   \n",
       "13     0.968114         7.117859            50.663913        3.345164   \n",
       "14     0.970074         6.952340            48.335027        3.553115   \n",
       "15     0.972701         7.137940            50.950183        3.857342   \n",
       "16     0.973391         7.268158            52.826114        3.696819   \n",
       "17     0.959784         6.765352            45.769991        3.454343   \n",
       "\n",
       "    validation_r2  \n",
       "0             NaN  \n",
       "1        0.905380  \n",
       "2        0.939038  \n",
       "3        0.936296  \n",
       "4        0.940513  \n",
       "5        0.940076  \n",
       "6        0.942110  \n",
       "7        0.946393  \n",
       "8        0.946724  \n",
       "9        0.943825  \n",
       "10       0.946429  \n",
       "11       0.946438  \n",
       "12       0.944492  \n",
       "13       0.941028  \n",
       "14       0.943739  \n",
       "15       0.940695  \n",
       "16       0.938511  \n",
       "17       0.946724  "
      ]
     },
     "execution_count": 27,
     "metadata": {},
     "output_type": "execute_result"
    }
   ],
   "source": [
    "m_DLR_200_epochs.scoring_history() #training rmse is higher than training_mae which means when it gets it wrong, it gets it wrong"
   ]
  },
  {
   "cell_type": "markdown",
   "metadata": {},
   "source": [
    "The distribution of ArrDelay is long-tailed"
   ]
  },
  {
   "cell_type": "code",
   "execution_count": 28,
   "metadata": {},
   "outputs": [
    {
     "name": "stderr",
     "output_type": "stream",
     "text": [
      "/Users/raj/anaconda3/lib/python3.6/site-packages/matplotlib/__init__.py:1855: MatplotlibDeprecationWarning: The *left* kwarg to `bar` is deprecated use *x* instead. Support for *left* will be removed in Matplotlib 3.0\n",
      "  return func(ax, *args, **kwargs)\n"
     ]
    },
    {
     "data": {
      "image/png": "[encoded data removed]",
      "text/plain": [
       "<Figure size 432x288 with 1 Axes>"
      ]
     },
     "metadata": {},
     "output_type": "display_data"
    }
   ],
   "source": [
    "train[y].hist(200)"
   ]
  },
  {
   "cell_type": "markdown",
   "metadata": {},
   "source": [
    "it looks like a exponential decay\n",
    "\n",
    "How about we try a laplace distribution ?"
   ]
  },
  {
   "cell_type": "code",
   "execution_count": 29,
   "metadata": {},
   "outputs": [
    {
     "name": "stdout",
     "output_type": "stream",
     "text": [
      "deeplearning Model Build progress: |██████████████████████████████████████| 100%\n",
      "CPU times: user 802 ms, sys: 139 ms, total: 940 ms\n",
      "Wall time: 2min 8s\n"
     ]
    }
   ],
   "source": [
    "m_DLR_laplace = H2ODeepLearningEstimator(\n",
    "variable_importances=True,\n",
    "epochs=200,\n",
    "distribution='laplace'   \n",
    ")\n",
    "%time m_DLR_laplace.train(xWithDep,y,train,validation_frame=valid)"
   ]
  },
  {
   "cell_type": "code",
   "execution_count": 30,
   "metadata": {},
   "outputs": [
    {
     "name": "stdout",
     "output_type": "stream",
     "text": [
      "\n",
      "ModelMetricsRegression: deeplearning\n",
      "** Reported on test data. **\n",
      "\n",
      "MSE: 44.13439366794933\n",
      "RMSE: 6.643372160879543\n",
      "MAE: 2.9921968017752745\n",
      "RMSLE: NaN\n",
      "Mean Residual Deviance: 2.9921968017752745\n"
     ]
    },
    {
     "data": {
      "text/plain": []
     },
     "execution_count": 30,
     "metadata": {},
     "output_type": "execute_result"
    }
   ],
   "source": [
    "m_DLR_laplace.model_performance(valid)"
   ]
  },
  {
   "cell_type": "code",
   "execution_count": 31,
   "metadata": {},
   "outputs": [
    {
     "ename": "TypeError",
     "evalue": "not enough arguments for format string",
     "output_type": "error",
     "traceback": [
      "\u001b[0;31m---------------------------------------------------------------------------\u001b[0m",
      "\u001b[0;31mTypeError\u001b[0m                                 Traceback (most recent call last)",
      "\u001b[0;32m<ipython-input-31-fa4cd31e5068>\u001b[0m in \u001b[0;36m<module>\u001b[0;34m()\u001b[0m\n\u001b[1;32m      3\u001b[0m \u001b[0mmae\u001b[0m\u001b[0;34m=\u001b[0m \u001b[0mmap\u001b[0m\u001b[0;34m(\u001b[0m\u001b[0;32mlambda\u001b[0m \u001b[0mx\u001b[0m \u001b[0;34m:\u001b[0m \u001b[0mx\u001b[0m\u001b[0;34m.\u001b[0m\u001b[0mmae\u001b[0m\u001b[0;34m(\u001b[0m\u001b[0;34m)\u001b[0m\u001b[0;34m,\u001b[0m\u001b[0mall_models\u001b[0m\u001b[0;34m)\u001b[0m\u001b[0;34m\u001b[0m\u001b[0m\n\u001b[1;32m      4\u001b[0m \u001b[0;34m\u001b[0m\u001b[0m\n\u001b[0;32m----> 5\u001b[0;31m \u001b[0mprint\u001b[0m\u001b[0;34m(\u001b[0m\u001b[0;34m\" defaults: %.4f --> %.4f\\n 200 epochs : %.4f --> %.4f\\n laplace: %.4f --> %.4f\\n\"\u001b[0m \u001b[0;34m%\u001b[0m \u001b[0mtuple\u001b[0m\u001b[0;34m(\u001b[0m\u001b[0mlist\u001b[0m\u001b[0;34m(\u001b[0m\u001b[0mmae\u001b[0m\u001b[0;34m)\u001b[0m\u001b[0;34m)\u001b[0m\u001b[0;34m)\u001b[0m\u001b[0;34m\u001b[0m\u001b[0m\n\u001b[0m\u001b[1;32m      6\u001b[0m \u001b[0;34m\u001b[0m\u001b[0m\n\u001b[1;32m      7\u001b[0m \u001b[0mrmse\u001b[0m\u001b[0;34m=\u001b[0m \u001b[0mmap\u001b[0m\u001b[0;34m(\u001b[0m\u001b[0;32mlambda\u001b[0m \u001b[0mx\u001b[0m\u001b[0;34m:\u001b[0m \u001b[0mx\u001b[0m\u001b[0;34m.\u001b[0m\u001b[0mrmse\u001b[0m\u001b[0;34m(\u001b[0m\u001b[0;34m)\u001b[0m\u001b[0;34m,\u001b[0m\u001b[0mall_models\u001b[0m\u001b[0;34m)\u001b[0m\u001b[0;34m\u001b[0m\u001b[0m\n",
      "\u001b[0;31mTypeError\u001b[0m: not enough arguments for format string"
     ]
    }
   ],
   "source": [
    "all_models=[m_DLR_def,m_DLR_200_epochs,m_DLR_laplace]\n",
    "#low log loss is better\n",
    "mae= map(lambda x : x.mae(),all_models)\n",
    "\n",
    "print(\" defaults: %.4f \\n 200 epochs : %.4f \\n laplace: %.4f \\n\" % tuple(list(mae)))\n",
    "\n",
    "rmse= map(lambda x: x.rmse(),all_models)\n",
    "print(\" defaults: %.4f \\n 200 epochs : %.4f \\n laplace: %.4f \\n\" % tuple(list(mae)))\n"
   ]
  },
  {
   "cell_type": "code",
   "execution_count": null,
   "metadata": {},
   "outputs": [],
   "source": []
  }
 ],
 "metadata": {
  "kernelspec": {
   "display_name": "Python 3",
   "language": "python",
   "name": "python3"
  },
  "language_info": {
   "codemirror_mode": {
    "name": "ipython",
    "version": 3
   },
   "file_extension": ".py",
   "mimetype": "text/x-python",
   "name": "python",
   "nbconvert_exporter": "python",
   "pygments_lexer": "ipython3",
   "version": "3.6.5"
  }
 },
 "nbformat": 4,
 "nbformat_minor": 2
}
