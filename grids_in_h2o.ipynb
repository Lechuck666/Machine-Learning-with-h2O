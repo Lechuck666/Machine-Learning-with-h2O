{
 "cells": [
  {
   "cell_type": "code",
   "execution_count": 1,
   "metadata": {},
   "outputs": [],
   "source": [
    "import h2o\n",
    "import h2o.grid"
   ]
  },
  {
   "cell_type": "code",
   "execution_count": 2,
   "metadata": {},
   "outputs": [
    {
     "name": "stdout",
     "output_type": "stream",
     "text": [
      "Checking whether there is an H2O instance running at http://localhost:54321. connected.\n"
     ]
    },
    {
     "data": {
      "text/html": [
       "<div style=\"overflow:auto\"><table style=\"width:50%\"><tr><td>H2O cluster uptime:</td>\n",
       "<td>2 hours 16 mins</td></tr>\n",
       "<tr><td>H2O cluster timezone:</td>\n",
       "<td>Asia/Kolkata</td></tr>\n",
       "<tr><td>H2O data parsing timezone:</td>\n",
       "<td>UTC</td></tr>\n",
       "<tr><td>H2O cluster version:</td>\n",
       "<td>3.20.0.2</td></tr>\n",
       "<tr><td>H2O cluster version age:</td>\n",
       "<td>8 days </td></tr>\n",
       "<tr><td>H2O cluster name:</td>\n",
       "<td>H2O_started_from_R_raj_szi088</td></tr>\n",
       "<tr><td>H2O cluster total nodes:</td>\n",
       "<td>1</td></tr>\n",
       "<tr><td>H2O cluster free memory:</td>\n",
       "<td>3.277 Gb</td></tr>\n",
       "<tr><td>H2O cluster total cores:</td>\n",
       "<td>8</td></tr>\n",
       "<tr><td>H2O cluster allowed cores:</td>\n",
       "<td>8</td></tr>\n",
       "<tr><td>H2O cluster status:</td>\n",
       "<td>locked, healthy</td></tr>\n",
       "<tr><td>H2O connection url:</td>\n",
       "<td>http://localhost:54321</td></tr>\n",
       "<tr><td>H2O connection proxy:</td>\n",
       "<td>None</td></tr>\n",
       "<tr><td>H2O internal security:</td>\n",
       "<td>False</td></tr>\n",
       "<tr><td>H2O API Extensions:</td>\n",
       "<td>XGBoost, Algos, AutoML, Core V3, Core V4</td></tr>\n",
       "<tr><td>Python version:</td>\n",
       "<td>3.6.5 final</td></tr></table></div>"
      ],
      "text/plain": [
       "--------------------------  ----------------------------------------\n",
       "H2O cluster uptime:         2 hours 16 mins\n",
       "H2O cluster timezone:       Asia/Kolkata\n",
       "H2O data parsing timezone:  UTC\n",
       "H2O cluster version:        3.20.0.2\n",
       "H2O cluster version age:    8 days\n",
       "H2O cluster name:           H2O_started_from_R_raj_szi088\n",
       "H2O cluster total nodes:    1\n",
       "H2O cluster free memory:    3.277 Gb\n",
       "H2O cluster total cores:    8\n",
       "H2O cluster allowed cores:  8\n",
       "H2O cluster status:         locked, healthy\n",
       "H2O connection url:         http://localhost:54321\n",
       "H2O connection proxy:\n",
       "H2O internal security:      False\n",
       "H2O API Extensions:         XGBoost, Algos, AutoML, Core V3, Core V4\n",
       "Python version:             3.6.5 final\n",
       "--------------------------  ----------------------------------------"
      ]
     },
     "metadata": {},
     "output_type": "display_data"
    }
   ],
   "source": [
    "h2o.init()"
   ]
  },
  {
   "cell_type": "code",
   "execution_count": 12,
   "metadata": {},
   "outputs": [
    {
     "name": "stdout",
     "output_type": "stream",
     "text": [
      "Parse progress: |█████████████████████████████████████████████████████████| 100%\n"
     ]
    }
   ],
   "source": [
    "url =  \"http://h2o-public-test-data.s3.amazonaws.com/smalldata/airlines/allyears2k_headers.zip\"\n",
    "data=h2o.import_file(url)"
   ]
  },
  {
   "cell_type": "code",
   "execution_count": 13,
   "metadata": {},
   "outputs": [],
   "source": [
    "train,valid,test=data.split_frame([0.8,0.1],seed=69)"
   ]
  },
  {
   "cell_type": "code",
   "execution_count": 14,
   "metadata": {},
   "outputs": [
    {
     "name": "stdout",
     "output_type": "stream",
     "text": [
      "35255/4272/4451\n"
     ]
    }
   ],
   "source": [
    "print(\"%d/%d/%d\" %(train.nrows,valid.nrows,test.nrows))"
   ]
  },
  {
   "cell_type": "code",
   "execution_count": 16,
   "metadata": {},
   "outputs": [
    {
     "data": {
      "text/plain": [
       "['Year',\n",
       " 'Month',\n",
       " 'DayofMonth',\n",
       " 'DayOfWeek',\n",
       " 'DepTime',\n",
       " 'CRSDepTime',\n",
       " 'ArrTime',\n",
       " 'CRSArrTime',\n",
       " 'UniqueCarrier',\n",
       " 'FlightNum',\n",
       " 'TailNum',\n",
       " 'ActualElapsedTime',\n",
       " 'CRSElapsedTime',\n",
       " 'AirTime',\n",
       " 'ArrDelay',\n",
       " 'DepDelay',\n",
       " 'Origin',\n",
       " 'Dest',\n",
       " 'Distance',\n",
       " 'TaxiIn',\n",
       " 'TaxiOut',\n",
       " 'Cancelled',\n",
       " 'CancellationCode',\n",
       " 'Diverted',\n",
       " 'CarrierDelay',\n",
       " 'WeatherDelay',\n",
       " 'NASDelay',\n",
       " 'SecurityDelay',\n",
       " 'LateAircraftDelay',\n",
       " 'IsArrDelayed',\n",
       " 'IsDepDelayed']"
      ]
     },
     "execution_count": 16,
     "metadata": {},
     "output_type": "execute_result"
    }
   ],
   "source": [
    "data.col_names"
   ]
  },
  {
   "cell_type": "code",
   "execution_count": 17,
   "metadata": {},
   "outputs": [],
   "source": [
    "y='IsArrDelayed'\n",
    "ignoreFields=['ArrDelay',\n",
    " 'DepDelay','CarrierDelay',\n",
    " 'WeatherDelay',\n",
    " 'NASDelay',\n",
    " 'SecurityDelay',\n",
    " 'LateAircraftDelay','IsArrDelayed',\n",
    " 'IsDepDelayed','ActualElapsedTime']"
   ]
  },
  {
   "cell_type": "code",
   "execution_count": 33,
   "metadata": {},
   "outputs": [],
   "source": [
    "xAll=[i for i in train.names if i not in ignoreFields]\n",
    "xLikely=['Month',\n",
    " 'DayOfWeek','UniqueCarrier','Origin',\n",
    " 'Dest','Distance','Cancelled','Diverted']"
   ]
  },
  {
   "cell_type": "code",
   "execution_count": 23,
   "metadata": {},
   "outputs": [],
   "source": [
    "from h2o.estimators.glm import H2OGeneralizedLinearEstimator"
   ]
  },
  {
   "cell_type": "code",
   "execution_count": 24,
   "metadata": {},
   "outputs": [],
   "source": [
    "m_def= H2OGeneralizedLinearEstimator(family='binomial',)"
   ]
  },
  {
   "cell_type": "code",
   "execution_count": 25,
   "metadata": {},
   "outputs": [
    {
     "name": "stdout",
     "output_type": "stream",
     "text": [
      "glm Model Build progress: |███████████████████████████████████████████████| 100%\n"
     ]
    }
   ],
   "source": [
    "m_def.train(xAll,y,train,validation_frame=valid)"
   ]
  },
  {
   "cell_type": "code",
   "execution_count": 26,
   "metadata": {},
   "outputs": [
    {
     "data": {
      "text/plain": [
       "0.6233229932181948"
      ]
     },
     "execution_count": 26,
     "metadata": {},
     "output_type": "execute_result"
    }
   ],
   "source": [
    "m_def.logloss(valid=True)"
   ]
  },
  {
   "cell_type": "code",
   "execution_count": 29,
   "metadata": {},
   "outputs": [
    {
     "name": "stdout",
     "output_type": "stream",
     "text": [
      "glm Grid Build progress: |████████████████████████████████████████████████| 100%\n"
     ]
    }
   ],
   "source": [
    "g= h2o.grid.H2OGridSearch(\n",
    "H2OGeneralizedLinearEstimator(family=\"binomial\",\n",
    "lambda_search=True\n",
    "),\n",
    "hyper_params={\n",
    "    \"alpha\":[x * 0.01 for x in range(0,100)],\n",
    "},\n",
    "search_criteria={\n",
    "    \"strategy\":\"RandomDiscrete\",\n",
    "    \"max_models\":8,\n",
    "    \"max_runtime_secs\":30\n",
    "}\n",
    ")\n",
    "g.train(xAll,y,train,validation_frame=valid)"
   ]
  },
  {
   "cell_type": "code",
   "execution_count": 30,
   "metadata": {},
   "outputs": [
    {
     "name": "stdout",
     "output_type": "stream",
     "text": [
      "      alpha                                                    model_ids  \\\n",
      "0    [0.87]  Grid_GLM_py_8_sid_905a_model_python_1529795838258_8_model_3   \n",
      "1    [0.84]  Grid_GLM_py_8_sid_905a_model_python_1529795838258_8_model_4   \n",
      "2    [0.74]  Grid_GLM_py_8_sid_905a_model_python_1529795838258_8_model_2   \n",
      "3    [0.72]  Grid_GLM_py_8_sid_905a_model_python_1529795838258_8_model_5   \n",
      "4    [0.64]  Grid_GLM_py_8_sid_905a_model_python_1529795838258_8_model_6   \n",
      "5     [0.6]  Grid_GLM_py_8_sid_905a_model_python_1529795838258_8_model_1   \n",
      "6    [0.44]  Grid_GLM_py_8_sid_905a_model_python_1529795838258_8_model_0   \n",
      "7    [0.02]  Grid_GLM_py_8_sid_905a_model_python_1529795838258_8_model_7   \n",
      "\n",
      "              logloss  \n",
      "0  0.5915200975143313  \n",
      "1  0.5917814922675966  \n",
      "2  0.5927150572400006  \n",
      "3  0.5929156642431362  \n",
      "4  0.5937835708879243  \n",
      "5   0.594264129887982  \n",
      "6  0.5966105801407572  \n",
      "7  0.6239863095303368  \n"
     ]
    },
    {
     "data": {
      "text/plain": []
     },
     "execution_count": 30,
     "metadata": {},
     "output_type": "execute_result"
    }
   ],
   "source": [
    "g # higher the value of alpha the better"
   ]
  },
  {
   "cell_type": "code",
   "execution_count": 34,
   "metadata": {},
   "outputs": [
    {
     "name": "stdout",
     "output_type": "stream",
     "text": [
      "glm Grid Build progress: |████████████████████████████████████████████████| 100%\n"
     ]
    }
   ],
   "source": [
    "g2= h2o.grid.H2OGridSearch(\n",
    "H2OGeneralizedLinearEstimator(family=\"binomial\",\n",
    "lambda_search=True\n",
    "),\n",
    "hyper_params={\n",
    "    \"alpha\":[0,0.2,0.4,0.5,0.6,0.8,0.99],\n",
    "},\n",
    "search_criteria={\n",
    "    \"strategy\":\"Cartesian\"\n",
    "}\n",
    ")\n",
    "g2.train(xLikely,y,train,validation_frame=valid)"
   ]
  },
  {
   "cell_type": "code",
   "execution_count": 35,
   "metadata": {},
   "outputs": [
    {
     "name": "stdout",
     "output_type": "stream",
     "text": [
      "      alpha                                                     model_ids  \\\n",
      "0     [0.4]  Grid_GLM_py_8_sid_905a_model_python_1529795838258_25_model_2   \n",
      "1     [0.5]  Grid_GLM_py_8_sid_905a_model_python_1529795838258_25_model_3   \n",
      "2     [0.2]  Grid_GLM_py_8_sid_905a_model_python_1529795838258_25_model_1   \n",
      "3     [0.6]  Grid_GLM_py_8_sid_905a_model_python_1529795838258_25_model_4   \n",
      "4     [0.0]  Grid_GLM_py_8_sid_905a_model_python_1529795838258_25_model_0   \n",
      "5    [0.99]  Grid_GLM_py_8_sid_905a_model_python_1529795838258_25_model_6   \n",
      "6     [0.8]  Grid_GLM_py_8_sid_905a_model_python_1529795838258_25_model_5   \n",
      "\n",
      "              logloss  \n",
      "0  0.6487157727187454  \n",
      "1  0.6487160884951749  \n",
      "2  0.6487196240162347  \n",
      "3  0.6487273991184022  \n",
      "4  0.6487585913496811  \n",
      "5  0.6487609977067444  \n",
      "6  0.6487706105598544  \n"
     ]
    },
    {
     "data": {
      "text/plain": []
     },
     "execution_count": 35,
     "metadata": {},
     "output_type": "execute_result"
    }
   ],
   "source": [
    "g2 #much worse, very little variation based on alpha"
   ]
  },
  {
   "cell_type": "markdown",
   "metadata": {},
   "source": [
    "This is telling us it makes sense to use as many fields you can rather than just sensible one"
   ]
  }
 ],
 "metadata": {
  "kernelspec": {
   "display_name": "Python 3",
   "language": "python",
   "name": "python3"
  },
  "language_info": {
   "codemirror_mode": {
    "name": "ipython",
    "version": 3
   },
   "file_extension": ".py",
   "mimetype": "text/x-python",
   "name": "python",
   "nbconvert_exporter": "python",
   "pygments_lexer": "ipython3",
   "version": "3.6.5"
  }
 },
 "nbformat": 4,
 "nbformat_minor": 2
}
