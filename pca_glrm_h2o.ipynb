{
 "cells": [
  {
   "cell_type": "code",
   "execution_count": 15,
   "metadata": {},
   "outputs": [],
   "source": [
    "library(h2o)\n",
    "options(warnings=-1)"
   ]
  },
  {
   "cell_type": "code",
   "execution_count": 16,
   "metadata": {},
   "outputs": [
    {
     "name": "stdout",
     "output_type": "stream",
     "text": [
      " Connection successful!\n",
      "\n",
      "R is connected to the H2O cluster: \n",
      "    H2O cluster uptime:         3 days 10 hours \n",
      "    H2O cluster timezone:       Asia/Kolkata \n",
      "    H2O data parsing timezone:  UTC \n",
      "    H2O cluster version:        3.20.0.2 \n",
      "    H2O cluster version age:    16 days  \n",
      "    H2O cluster name:           H2O_started_from_R_raj_cjn618 \n",
      "    H2O cluster total nodes:    1 \n",
      "    H2O cluster total memory:   2.49 GB \n",
      "    H2O cluster total cores:    8 \n",
      "    H2O cluster allowed cores:  8 \n",
      "    H2O cluster healthy:        TRUE \n",
      "    H2O Connection ip:          localhost \n",
      "    H2O Connection port:        54321 \n",
      "    H2O Connection proxy:       NA \n",
      "    H2O Internal Security:      FALSE \n",
      "    H2O API Extensions:         XGBoost, Algos, AutoML, Core V3, Core V4 \n",
      "    R Version:                  R version 3.4.3 (2017-11-30) \n",
      "\n"
     ]
    }
   ],
   "source": [
    "h2o.init(nthreads = -1)"
   ]
  },
  {
   "cell_type": "code",
   "execution_count": 17,
   "metadata": {},
   "outputs": [
    {
     "name": "stdout",
     "output_type": "stream",
     "text": [
      "  |======================================================================| 100%\n"
     ]
    }
   ],
   "source": [
    "url <-\"http://h2o-public-test-data.s3.amazonaws.com/smalldata/iris/iris_wheader.csv\"\n",
    "data=h2o.importFile(url)"
   ]
  },
  {
   "cell_type": "code",
   "execution_count": 18,
   "metadata": {},
   "outputs": [],
   "source": [
    "parts=h2o.splitFrame(data,0.8)\n",
    "train<-parts[[1]]\n",
    "test<-parts[[2]]"
   ]
  },
  {
   "cell_type": "code",
   "execution_count": 19,
   "metadata": {},
   "outputs": [
    {
     "name": "stdout",
     "output_type": "stream",
     "text": [
      "  |======================================================================| 100%\n"
     ]
    },
    {
     "data": {
      "text/plain": [
       "Model Details:\n",
       "==============\n",
       "\n",
       "H2ODimReductionModel: pca\n",
       "Model ID:  PCA_model_R_1530179363643_313 \n",
       "Importance of components: \n",
       "                            pc1      pc2      pc3      pc4\n",
       "Standard deviation     7.818889 1.463994 0.284697 0.154333\n",
       "Proportion of Variance 0.964531 0.033815 0.001279 0.000376\n",
       "Cumulative Proportion  0.964531 0.998345 0.999624 1.000000\n",
       "\n",
       "\n",
       "H2ODimReductionMetrics: pca\n",
       "\n",
       "No model metrics available for PCA\n",
       "\n"
      ]
     },
     "metadata": {},
     "output_type": "display_data"
    }
   ],
   "source": [
    " #1:4 = columns you want to compress, k=4 gives 4 components\n",
    "m_PCA= h2o.prcomp(train,1:4,k=4,impute_missing = TRUE)\n",
    "m_PCA"
   ]
  },
  {
   "cell_type": "code",
   "execution_count": 20,
   "metadata": {},
   "outputs": [
    {
     "name": "stdout",
     "output_type": "stream",
     "text": [
      "  |======================================================================| 100%\n"
     ]
    },
    {
     "data": {
      "text/plain": [
       "        PC1       PC2         PC3          PC4\n",
       "1 -5.916464 -2.292451  0.01094217  0.001059186\n",
       "2 -5.450341 -2.086430  0.01819824  0.016278188\n",
       "3 -5.439508 -1.861395  0.02484812 -0.079627035\n",
       "4 -5.879585 -2.318427 -0.10632360 -0.063855621\n",
       "5 -6.481661 -2.313707 -0.23279274 -0.025286082\n",
       "6 -5.519636 -2.061463 -0.22595868 -0.054165227\n",
       "\n",
       "[121 rows x 4 columns] "
      ]
     },
     "metadata": {},
     "output_type": "display_data"
    }
   ],
   "source": [
    "p_PCA= h2o.predict(m_PCA,train)\n",
    "p_PCA"
   ]
  },
  {
   "cell_type": "code",
   "execution_count": 22,
   "metadata": {},
   "outputs": [
    {
     "name": "stdout",
     "output_type": "stream",
     "text": [
      "  |======================================================================| 100%\n"
     ]
    },
    {
     "data": {
      "text/plain": [
       "Model Details:\n",
       "==============\n",
       "\n",
       "H2ODimReductionModel: glrm\n",
       "Model ID:  GLRM_model_R_1530179363643_314 \n",
       "Model Summary: \n",
       "  number_of_iterations final_step_size final_objective_value\n",
       "1                   15         0.00058               0.00000\n",
       "\n",
       "\n",
       "H2ODimReductionMetrics: glrm\n",
       "** Reported on training data. **\n",
       "\n",
       "Sum of Squared Error (Numeric):  4.027506e-12\n",
       "Misclassification Error (Categorical):  0\n",
       "Number of Numeric Entries:  484\n",
       "Number of Categorical Entries:  0\n",
       "\n"
      ]
     },
     "metadata": {},
     "output_type": "display_data"
    }
   ],
   "source": [
    "#GLRM\n",
    "m_GLRM= h2o.glrm(train,1:4,k=4)\n",
    "m_GLRM\n"
   ]
  },
  {
   "cell_type": "code",
   "execution_count": 23,
   "metadata": {},
   "outputs": [
    {
     "name": "stdout",
     "output_type": "stream",
     "text": [
      "  |======================================================================| 100%\n"
     ]
    },
    {
     "data": {
      "text/plain": [
       "  reconstr_sepal_len reconstr_sepal_wid reconstr_petal_len reconstr_petal_wid\n",
       "1                5.1                3.5                1.4                0.2\n",
       "2                4.7                3.2                1.3                0.2\n",
       "3                4.6                3.1                1.5                0.2\n",
       "4                5.0                3.6                1.4                0.2\n",
       "5                5.4                3.9                1.7                0.4\n",
       "6                4.6                3.4                1.4                0.3\n",
       "\n",
       "[121 rows x 4 columns] "
      ]
     },
     "metadata": {},
     "output_type": "display_data"
    }
   ],
   "source": [
    "# point of using glrm is that it can handle enum data as well\n",
    "#showing reconstruction of record one\n",
    "p_GLRM= h2o.predict(m_GLRM,train)\n",
    "p_GLRM"
   ]
  },
  {
   "cell_type": "code",
   "execution_count": 24,
   "metadata": {},
   "outputs": [
    {
     "name": "stdout",
     "output_type": "stream",
     "text": [
      "  |======================================================================| 100%\n"
     ]
    },
    {
     "data": {
      "text/plain": [
       "Model Details:\n",
       "==============\n",
       "\n",
       "H2ODimReductionModel: glrm\n",
       "Model ID:  GLRM_model_R_1530179363643_316 \n",
       "Model Summary: \n",
       "  number_of_iterations final_step_size final_objective_value\n",
       "1                  275         0.00008              10.82213\n",
       "\n",
       "\n",
       "H2ODimReductionMetrics: glrm\n",
       "** Reported on training data. **\n",
       "\n",
       "Sum of Squared Error (Numeric):  10.82213\n",
       "Misclassification Error (Categorical):  0\n",
       "Number of Numeric Entries:  484\n",
       "Number of Categorical Entries:  121\n",
       "\n"
      ]
     },
     "metadata": {},
     "output_type": "display_data"
    }
   ],
   "source": [
    "# Reduce 4 numeric and 1 enum to 3 numeric columns\n",
    "m_GLRM3= h2o.glrm(train,1:5,k=3)\n",
    "m_GLRM3\n"
   ]
  },
  {
   "cell_type": "code",
   "execution_count": 25,
   "metadata": {},
   "outputs": [
    {
     "name": "stdout",
     "output_type": "stream",
     "text": [
      "  |======================================================================| 100%\n"
     ]
    },
    {
     "data": {
      "text/html": [
       "<table>\n",
       "<thead><tr><th scope=col>class</th><th scope=col>reconstr_class</th></tr></thead>\n",
       "<tbody>\n",
       "\t<tr><td>Iris-setosa</td><td>Iris-setosa</td></tr>\n",
       "\t<tr><td>Iris-setosa</td><td>Iris-setosa</td></tr>\n",
       "\t<tr><td>Iris-setosa</td><td>Iris-setosa</td></tr>\n",
       "\t<tr><td>Iris-setosa</td><td>Iris-setosa</td></tr>\n",
       "\t<tr><td>Iris-setosa</td><td>Iris-setosa</td></tr>\n",
       "\t<tr><td>Iris-setosa</td><td>Iris-setosa</td></tr>\n",
       "\t<tr><td>Iris-setosa</td><td>Iris-setosa</td></tr>\n",
       "\t<tr><td>Iris-setosa</td><td>Iris-setosa</td></tr>\n",
       "\t<tr><td>Iris-setosa</td><td>Iris-setosa</td></tr>\n",
       "\t<tr><td>Iris-setosa</td><td>Iris-setosa</td></tr>\n",
       "\t<tr><td>Iris-setosa</td><td>Iris-setosa</td></tr>\n",
       "\t<tr><td>Iris-setosa</td><td>Iris-setosa</td></tr>\n",
       "\t<tr><td>Iris-setosa</td><td>Iris-setosa</td></tr>\n",
       "\t<tr><td>Iris-setosa</td><td>Iris-setosa</td></tr>\n",
       "\t<tr><td>Iris-setosa</td><td>Iris-setosa</td></tr>\n",
       "\t<tr><td>Iris-setosa</td><td>Iris-setosa</td></tr>\n",
       "\t<tr><td>Iris-setosa</td><td>Iris-setosa</td></tr>\n",
       "\t<tr><td>Iris-setosa</td><td>Iris-setosa</td></tr>\n",
       "\t<tr><td>Iris-setosa</td><td>Iris-setosa</td></tr>\n",
       "\t<tr><td>Iris-setosa</td><td>Iris-setosa</td></tr>\n",
       "\t<tr><td>Iris-setosa</td><td>Iris-setosa</td></tr>\n",
       "\t<tr><td>Iris-setosa</td><td>Iris-setosa</td></tr>\n",
       "\t<tr><td>Iris-setosa</td><td>Iris-setosa</td></tr>\n",
       "\t<tr><td>Iris-setosa</td><td>Iris-setosa</td></tr>\n",
       "\t<tr><td>Iris-setosa</td><td>Iris-setosa</td></tr>\n",
       "\t<tr><td>Iris-setosa</td><td>Iris-setosa</td></tr>\n",
       "\t<tr><td>Iris-setosa</td><td>Iris-setosa</td></tr>\n",
       "\t<tr><td>Iris-setosa</td><td>Iris-setosa</td></tr>\n",
       "\t<tr><td>Iris-setosa</td><td>Iris-setosa</td></tr>\n",
       "\t<tr><td>Iris-setosa</td><td>Iris-setosa</td></tr>\n",
       "\t<tr><td>⋮</td><td>⋮</td></tr>\n",
       "\t<tr><td>Iris-virginica</td><td>Iris-virginica</td></tr>\n",
       "\t<tr><td>Iris-virginica</td><td>Iris-virginica</td></tr>\n",
       "\t<tr><td>Iris-virginica</td><td>Iris-virginica</td></tr>\n",
       "\t<tr><td>Iris-virginica</td><td>Iris-virginica</td></tr>\n",
       "\t<tr><td>Iris-virginica</td><td>Iris-virginica</td></tr>\n",
       "\t<tr><td>Iris-virginica</td><td>Iris-virginica</td></tr>\n",
       "\t<tr><td>Iris-virginica</td><td>Iris-virginica</td></tr>\n",
       "\t<tr><td>Iris-virginica</td><td>Iris-virginica</td></tr>\n",
       "\t<tr><td>Iris-virginica</td><td>Iris-virginica</td></tr>\n",
       "\t<tr><td>Iris-virginica</td><td>Iris-virginica</td></tr>\n",
       "\t<tr><td>Iris-virginica</td><td>Iris-virginica</td></tr>\n",
       "\t<tr><td>Iris-virginica</td><td>Iris-virginica</td></tr>\n",
       "\t<tr><td>Iris-virginica</td><td>Iris-virginica</td></tr>\n",
       "\t<tr><td>Iris-virginica</td><td>Iris-virginica</td></tr>\n",
       "\t<tr><td>Iris-virginica</td><td>Iris-virginica</td></tr>\n",
       "\t<tr><td>Iris-virginica</td><td>Iris-virginica</td></tr>\n",
       "\t<tr><td>Iris-virginica</td><td>Iris-virginica</td></tr>\n",
       "\t<tr><td>Iris-virginica</td><td>Iris-virginica</td></tr>\n",
       "\t<tr><td>Iris-virginica</td><td>Iris-virginica</td></tr>\n",
       "\t<tr><td>Iris-virginica</td><td>Iris-virginica</td></tr>\n",
       "\t<tr><td>Iris-virginica</td><td>Iris-virginica</td></tr>\n",
       "\t<tr><td>Iris-virginica</td><td>Iris-virginica</td></tr>\n",
       "\t<tr><td>Iris-virginica</td><td>Iris-virginica</td></tr>\n",
       "\t<tr><td>Iris-virginica</td><td>Iris-virginica</td></tr>\n",
       "\t<tr><td>Iris-virginica</td><td>Iris-virginica</td></tr>\n",
       "\t<tr><td>Iris-virginica</td><td>Iris-virginica</td></tr>\n",
       "\t<tr><td>Iris-virginica</td><td>Iris-virginica</td></tr>\n",
       "\t<tr><td>Iris-virginica</td><td>Iris-virginica</td></tr>\n",
       "\t<tr><td>Iris-virginica</td><td>Iris-virginica</td></tr>\n",
       "\t<tr><td>Iris-virginica</td><td>Iris-virginica</td></tr>\n",
       "</tbody>\n",
       "</table>\n"
      ],
      "text/latex": [
       "\\begin{tabular}{r|ll}\n",
       " class & reconstr\\_class\\\\\n",
       "\\hline\n",
       "\t Iris-setosa & Iris-setosa\\\\\n",
       "\t Iris-setosa & Iris-setosa\\\\\n",
       "\t Iris-setosa & Iris-setosa\\\\\n",
       "\t Iris-setosa & Iris-setosa\\\\\n",
       "\t Iris-setosa & Iris-setosa\\\\\n",
       "\t Iris-setosa & Iris-setosa\\\\\n",
       "\t Iris-setosa & Iris-setosa\\\\\n",
       "\t Iris-setosa & Iris-setosa\\\\\n",
       "\t Iris-setosa & Iris-setosa\\\\\n",
       "\t Iris-setosa & Iris-setosa\\\\\n",
       "\t Iris-setosa & Iris-setosa\\\\\n",
       "\t Iris-setosa & Iris-setosa\\\\\n",
       "\t Iris-setosa & Iris-setosa\\\\\n",
       "\t Iris-setosa & Iris-setosa\\\\\n",
       "\t Iris-setosa & Iris-setosa\\\\\n",
       "\t Iris-setosa & Iris-setosa\\\\\n",
       "\t Iris-setosa & Iris-setosa\\\\\n",
       "\t Iris-setosa & Iris-setosa\\\\\n",
       "\t Iris-setosa & Iris-setosa\\\\\n",
       "\t Iris-setosa & Iris-setosa\\\\\n",
       "\t Iris-setosa & Iris-setosa\\\\\n",
       "\t Iris-setosa & Iris-setosa\\\\\n",
       "\t Iris-setosa & Iris-setosa\\\\\n",
       "\t Iris-setosa & Iris-setosa\\\\\n",
       "\t Iris-setosa & Iris-setosa\\\\\n",
       "\t Iris-setosa & Iris-setosa\\\\\n",
       "\t Iris-setosa & Iris-setosa\\\\\n",
       "\t Iris-setosa & Iris-setosa\\\\\n",
       "\t Iris-setosa & Iris-setosa\\\\\n",
       "\t Iris-setosa & Iris-setosa\\\\\n",
       "\t ⋮ & ⋮\\\\\n",
       "\t Iris-virginica & Iris-virginica\\\\\n",
       "\t Iris-virginica & Iris-virginica\\\\\n",
       "\t Iris-virginica & Iris-virginica\\\\\n",
       "\t Iris-virginica & Iris-virginica\\\\\n",
       "\t Iris-virginica & Iris-virginica\\\\\n",
       "\t Iris-virginica & Iris-virginica\\\\\n",
       "\t Iris-virginica & Iris-virginica\\\\\n",
       "\t Iris-virginica & Iris-virginica\\\\\n",
       "\t Iris-virginica & Iris-virginica\\\\\n",
       "\t Iris-virginica & Iris-virginica\\\\\n",
       "\t Iris-virginica & Iris-virginica\\\\\n",
       "\t Iris-virginica & Iris-virginica\\\\\n",
       "\t Iris-virginica & Iris-virginica\\\\\n",
       "\t Iris-virginica & Iris-virginica\\\\\n",
       "\t Iris-virginica & Iris-virginica\\\\\n",
       "\t Iris-virginica & Iris-virginica\\\\\n",
       "\t Iris-virginica & Iris-virginica\\\\\n",
       "\t Iris-virginica & Iris-virginica\\\\\n",
       "\t Iris-virginica & Iris-virginica\\\\\n",
       "\t Iris-virginica & Iris-virginica\\\\\n",
       "\t Iris-virginica & Iris-virginica\\\\\n",
       "\t Iris-virginica & Iris-virginica\\\\\n",
       "\t Iris-virginica & Iris-virginica\\\\\n",
       "\t Iris-virginica & Iris-virginica\\\\\n",
       "\t Iris-virginica & Iris-virginica\\\\\n",
       "\t Iris-virginica & Iris-virginica\\\\\n",
       "\t Iris-virginica & Iris-virginica\\\\\n",
       "\t Iris-virginica & Iris-virginica\\\\\n",
       "\t Iris-virginica & Iris-virginica\\\\\n",
       "\t Iris-virginica & Iris-virginica\\\\\n",
       "\\end{tabular}\n"
      ],
      "text/markdown": [
       "\n",
       "class | reconstr_class | \n",
       "|---|---|---|---|---|---|---|---|---|---|---|---|---|---|---|---|---|---|---|---|---|---|---|---|---|---|---|---|---|---|---|---|---|---|---|---|---|---|---|---|---|---|---|---|---|---|---|---|---|---|---|---|---|---|---|---|---|---|---|---|---|\n",
       "| Iris-setosa | Iris-setosa | \n",
       "| Iris-setosa | Iris-setosa | \n",
       "| Iris-setosa | Iris-setosa | \n",
       "| Iris-setosa | Iris-setosa | \n",
       "| Iris-setosa | Iris-setosa | \n",
       "| Iris-setosa | Iris-setosa | \n",
       "| Iris-setosa | Iris-setosa | \n",
       "| Iris-setosa | Iris-setosa | \n",
       "| Iris-setosa | Iris-setosa | \n",
       "| Iris-setosa | Iris-setosa | \n",
       "| Iris-setosa | Iris-setosa | \n",
       "| Iris-setosa | Iris-setosa | \n",
       "| Iris-setosa | Iris-setosa | \n",
       "| Iris-setosa | Iris-setosa | \n",
       "| Iris-setosa | Iris-setosa | \n",
       "| Iris-setosa | Iris-setosa | \n",
       "| Iris-setosa | Iris-setosa | \n",
       "| Iris-setosa | Iris-setosa | \n",
       "| Iris-setosa | Iris-setosa | \n",
       "| Iris-setosa | Iris-setosa | \n",
       "| Iris-setosa | Iris-setosa | \n",
       "| Iris-setosa | Iris-setosa | \n",
       "| Iris-setosa | Iris-setosa | \n",
       "| Iris-setosa | Iris-setosa | \n",
       "| Iris-setosa | Iris-setosa | \n",
       "| Iris-setosa | Iris-setosa | \n",
       "| Iris-setosa | Iris-setosa | \n",
       "| Iris-setosa | Iris-setosa | \n",
       "| Iris-setosa | Iris-setosa | \n",
       "| Iris-setosa | Iris-setosa | \n",
       "| ⋮ | ⋮ | \n",
       "| Iris-virginica | Iris-virginica | \n",
       "| Iris-virginica | Iris-virginica | \n",
       "| Iris-virginica | Iris-virginica | \n",
       "| Iris-virginica | Iris-virginica | \n",
       "| Iris-virginica | Iris-virginica | \n",
       "| Iris-virginica | Iris-virginica | \n",
       "| Iris-virginica | Iris-virginica | \n",
       "| Iris-virginica | Iris-virginica | \n",
       "| Iris-virginica | Iris-virginica | \n",
       "| Iris-virginica | Iris-virginica | \n",
       "| Iris-virginica | Iris-virginica | \n",
       "| Iris-virginica | Iris-virginica | \n",
       "| Iris-virginica | Iris-virginica | \n",
       "| Iris-virginica | Iris-virginica | \n",
       "| Iris-virginica | Iris-virginica | \n",
       "| Iris-virginica | Iris-virginica | \n",
       "| Iris-virginica | Iris-virginica | \n",
       "| Iris-virginica | Iris-virginica | \n",
       "| Iris-virginica | Iris-virginica | \n",
       "| Iris-virginica | Iris-virginica | \n",
       "| Iris-virginica | Iris-virginica | \n",
       "| Iris-virginica | Iris-virginica | \n",
       "| Iris-virginica | Iris-virginica | \n",
       "| Iris-virginica | Iris-virginica | \n",
       "| Iris-virginica | Iris-virginica | \n",
       "| Iris-virginica | Iris-virginica | \n",
       "| Iris-virginica | Iris-virginica | \n",
       "| Iris-virginica | Iris-virginica | \n",
       "| Iris-virginica | Iris-virginica | \n",
       "| Iris-virginica | Iris-virginica | \n",
       "\n",
       "\n"
      ],
      "text/plain": [
       "    class          reconstr_class\n",
       "1   Iris-setosa    Iris-setosa   \n",
       "2   Iris-setosa    Iris-setosa   \n",
       "3   Iris-setosa    Iris-setosa   \n",
       "4   Iris-setosa    Iris-setosa   \n",
       "5   Iris-setosa    Iris-setosa   \n",
       "6   Iris-setosa    Iris-setosa   \n",
       "7   Iris-setosa    Iris-setosa   \n",
       "8   Iris-setosa    Iris-setosa   \n",
       "9   Iris-setosa    Iris-setosa   \n",
       "10  Iris-setosa    Iris-setosa   \n",
       "11  Iris-setosa    Iris-setosa   \n",
       "12  Iris-setosa    Iris-setosa   \n",
       "13  Iris-setosa    Iris-setosa   \n",
       "14  Iris-setosa    Iris-setosa   \n",
       "15  Iris-setosa    Iris-setosa   \n",
       "16  Iris-setosa    Iris-setosa   \n",
       "17  Iris-setosa    Iris-setosa   \n",
       "18  Iris-setosa    Iris-setosa   \n",
       "19  Iris-setosa    Iris-setosa   \n",
       "20  Iris-setosa    Iris-setosa   \n",
       "21  Iris-setosa    Iris-setosa   \n",
       "22  Iris-setosa    Iris-setosa   \n",
       "23  Iris-setosa    Iris-setosa   \n",
       "24  Iris-setosa    Iris-setosa   \n",
       "25  Iris-setosa    Iris-setosa   \n",
       "26  Iris-setosa    Iris-setosa   \n",
       "27  Iris-setosa    Iris-setosa   \n",
       "28  Iris-setosa    Iris-setosa   \n",
       "29  Iris-setosa    Iris-setosa   \n",
       "30  Iris-setosa    Iris-setosa   \n",
       "⋮   ⋮              ⋮             \n",
       "92  Iris-virginica Iris-virginica\n",
       "93  Iris-virginica Iris-virginica\n",
       "94  Iris-virginica Iris-virginica\n",
       "95  Iris-virginica Iris-virginica\n",
       "96  Iris-virginica Iris-virginica\n",
       "97  Iris-virginica Iris-virginica\n",
       "98  Iris-virginica Iris-virginica\n",
       "99  Iris-virginica Iris-virginica\n",
       "100 Iris-virginica Iris-virginica\n",
       "101 Iris-virginica Iris-virginica\n",
       "102 Iris-virginica Iris-virginica\n",
       "103 Iris-virginica Iris-virginica\n",
       "104 Iris-virginica Iris-virginica\n",
       "105 Iris-virginica Iris-virginica\n",
       "106 Iris-virginica Iris-virginica\n",
       "107 Iris-virginica Iris-virginica\n",
       "108 Iris-virginica Iris-virginica\n",
       "109 Iris-virginica Iris-virginica\n",
       "110 Iris-virginica Iris-virginica\n",
       "111 Iris-virginica Iris-virginica\n",
       "112 Iris-virginica Iris-virginica\n",
       "113 Iris-virginica Iris-virginica\n",
       "114 Iris-virginica Iris-virginica\n",
       "115 Iris-virginica Iris-virginica\n",
       "116 Iris-virginica Iris-virginica\n",
       "117 Iris-virginica Iris-virginica\n",
       "118 Iris-virginica Iris-virginica\n",
       "119 Iris-virginica Iris-virginica\n",
       "120 Iris-virginica Iris-virginica\n",
       "121 Iris-virginica Iris-virginica"
      ]
     },
     "metadata": {},
     "output_type": "display_data"
    }
   ],
   "source": [
    "p_GLRM3= h2o.predict(m_GLRM3,train)\n",
    "as.data.frame(h2o.cbind(train$class,p_GLRM3$reconstr_class))"
   ]
  },
  {
   "cell_type": "markdown",
   "metadata": {},
   "source": [
    "#### Reconstructed the class perfectly given only 3 dimensions"
   ]
  },
  {
   "cell_type": "code",
   "execution_count": null,
   "metadata": {},
   "outputs": [],
   "source": [
    "# Kmeans clustering"
   ]
  }
 ],
 "metadata": {
  "kernelspec": {
   "display_name": "R",
   "language": "R",
   "name": "ir"
  },
  "language_info": {
   "codemirror_mode": "r",
   "file_extension": ".r",
   "mimetype": "text/x-r-source",
   "name": "R",
   "pygments_lexer": "r",
   "version": "3.4.3"
  }
 },
 "nbformat": 4,
 "nbformat_minor": 2
}
